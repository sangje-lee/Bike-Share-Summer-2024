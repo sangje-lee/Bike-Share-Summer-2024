{
 "cells": [
  {
   "cell_type": "markdown",
   "id": "001c604e",
   "metadata": {},
   "source": [
    "<h1> Toronto Bikeshare Ridership Summer of 2024 </h1>\n",
    "<h3>by Eric S Lee</h3>\n",
    "Toronto Bike Share Database for April to September of 2024"
   ]
  },
  {
   "cell_type": "code",
   "execution_count": null,
   "id": "3a292423",
   "metadata": {},
   "outputs": [],
   "source": [
    "# Required python package using Python 3.8.18 (Anaconda Virutal Environment)\n",
    "# Include package required to run this project\n",
    "\n",
    "import pandas as pd\n",
    "import numpy as np\n",
    "import matplotlib.pyplot as plt\n",
    "import warnings\n",
    "import os\n",
    "\n",
    "# from sklearn import tree\n",
    "from sklearn.model_selection import train_test_split\n",
    "from sklearn.model_selection import KFold, cross_val_score\n",
    "\n",
    "from sklearn import linear_model\n",
    "from sklearn.tree import DecisionTreeRegressor\n",
    "from sklearn.ensemble import RandomForestRegressor\n",
    "from sklearn.svm import SVR\n",
    "from sklearn.metrics import mean_squared_error\n",
    "from sklearn.metrics import mean_absolute_error\n",
    "\n",
    "warnings.filterwarnings('ignore')"
   ]
  },
  {
   "cell_type": "markdown",
   "id": "97d7986a",
   "metadata": {},
   "source": [
    "Import Bikeshare ridership csv data file for April 2024"
   ]
  },
  {
   "cell_type": "code",
   "execution_count": 2,
   "id": "0c6324b9",
   "metadata": {},
   "outputs": [
    {
     "name": "stdout",
     "output_type": "stream",
     "text": [
      "<class 'pandas.core.frame.DataFrame'>\n",
      "RangeIndex: 403549 entries, 0 to 403548\n",
      "Data columns (total 11 columns):\n",
      " #   Column              Non-Null Count   Dtype \n",
      "---  ------              --------------   ----- \n",
      " 0   Trip Id             403549 non-null  int64 \n",
      " 1   Trip  Duration      403549 non-null  int64 \n",
      " 2   Start Station Id    403549 non-null  int64 \n",
      " 3   Start Time          403549 non-null  object\n",
      " 4   Start Station Name  402853 non-null  object\n",
      " 5   End Station Id      403549 non-null  int64 \n",
      " 6   End Time            403549 non-null  object\n",
      " 7   End Station Name    402713 non-null  object\n",
      " 8   Bike Id             403549 non-null  int64 \n",
      " 9   User Type           403549 non-null  object\n",
      " 10  Model               403549 non-null  object\n",
      "dtypes: int64(5), object(6)\n",
      "memory usage: 33.9+ MB\n",
      "None\n",
      "    Trip Id  Trip  Duration  Start Station Id        Start Time  \\\n",
      "0  27567494             307              7176  04/01/2024 00:00   \n",
      "1  27567496             479              7169  04/01/2024 00:01   \n",
      "2  27567497             245              7660  04/01/2024 00:01   \n",
      "3  27567504             212              7322  04/01/2024 00:03   \n",
      "4  27567505             624              7047  04/01/2024 00:04   \n",
      "5  27567506             196              7322  04/01/2024 00:04   \n",
      "6  27567513             713              7169  04/01/2024 00:06   \n",
      "7  27567514             844              7224  04/01/2024 00:06   \n",
      "8  27567515            1957              7720  04/01/2024 00:06   \n",
      "9  27567517             794              7233  04/01/2024 00:07   \n",
      "\n",
      "                          Start Station Name  End Station Id  \\\n",
      "0               Bathurst St / Fort York Blvd            7720   \n",
      "1           Front St W / Bay St (North Side)            7542   \n",
      "2                            285 Victoria St            7333   \n",
      "3                       King St W / Brant St            7523   \n",
      "4  University Ave / Gerrard St W (East Side)            7208   \n",
      "5                       King St W / Brant St            7523   \n",
      "6           Front St W / Bay St (North Side)            7236   \n",
      "7     Bloor St W / High Park Ave (High Park)            7564   \n",
      "8                    King St W / Portland St            7184   \n",
      "9                   King / Cowan Ave - SMART            7256   \n",
      "\n",
      "           End Time                            End Station Name  Bike Id  \\\n",
      "0  04/01/2024 00:05                     King St W / Portland St     4851   \n",
      "1  04/01/2024 00:09                        Queen St W / John St     3452   \n",
      "2  04/01/2024 00:05                     King St E / Victoria St     1158   \n",
      "3  04/01/2024 00:07  Lynn Williams St / East Liberty St - SMART     5592   \n",
      "4  04/01/2024 00:14            80 Clinton St (North of College)     1099   \n",
      "5  04/01/2024 00:07  Lynn Williams St / East Liberty St - SMART     4463   \n",
      "6  04/01/2024 00:18         Thompson St / Broadview Ave - SMART     6560   \n",
      "7  04/01/2024 00:20                      Durie St / Dundas St W     5218   \n",
      "8  04/01/2024 00:39                  Ossington Ave / College St     4851   \n",
      "9  04/01/2024 00:20            Vanauley St / Queen St W - SMART     1636   \n",
      "\n",
      "       User Type   Model  \n",
      "0  Casual Member  ICONIC  \n",
      "1  Casual Member  ICONIC  \n",
      "2  Annual Member  ICONIC  \n",
      "3  Annual Member  ICONIC  \n",
      "4  Casual Member  ICONIC  \n",
      "5  Annual Member  ICONIC  \n",
      "6  Casual Member  ICONIC  \n",
      "7  Casual Member  ICONIC  \n",
      "8  Casual Member  ICONIC  \n",
      "9  Casual Member  ICONIC  \n"
     ]
    }
   ],
   "source": [
    "# From, https://open.toronto.ca/dataset/bike-share-toronto-ridership-data/\n",
    "# From, zip file, select, Ridership in April 2024.\n",
    "\n",
    "df_April = pd.read_csv('Ridership 2024-04.csv', encoding='latin-1')\n",
    "\n",
    "print(df_April.info())\n",
    "print(df_April.head(10))"
   ]
  },
  {
   "cell_type": "code",
   "execution_count": 3,
   "id": "d189998b",
   "metadata": {},
   "outputs": [
    {
     "name": "stdout",
     "output_type": "stream",
     "text": [
      "The number of rows in the dataset (April 2024) is 403549\n"
     ]
    }
   ],
   "source": [
    "num_of_rows = len(df_April)\n",
    "print(f\"The number of rows in the dataset (April 2024) is {num_of_rows}\")"
   ]
  },
  {
   "cell_type": "markdown",
   "id": "466cdd2a",
   "metadata": {},
   "source": [
    "Import Bikeshare ridership csv data file for May 2024"
   ]
  },
  {
   "cell_type": "code",
   "execution_count": 4,
   "id": "1bf559f7",
   "metadata": {},
   "outputs": [
    {
     "name": "stdout",
     "output_type": "stream",
     "text": [
      "<class 'pandas.core.frame.DataFrame'>\n",
      "RangeIndex: 685782 entries, 0 to 685781\n",
      "Data columns (total 11 columns):\n",
      " #   Column              Non-Null Count   Dtype \n",
      "---  ------              --------------   ----- \n",
      " 0   Trip Id             685782 non-null  int64 \n",
      " 1   Trip  Duration      685782 non-null  int64 \n",
      " 2   Start Station Id    685782 non-null  int64 \n",
      " 3   Start Time          685782 non-null  object\n",
      " 4   Start Station Name  685748 non-null  object\n",
      " 5   End Station Id      685782 non-null  int64 \n",
      " 6   End Time            685782 non-null  object\n",
      " 7   End Station Name    685744 non-null  object\n",
      " 8   Bike Id             685782 non-null  int64 \n",
      " 9   User Type           685782 non-null  object\n",
      " 10  Model               685782 non-null  object\n",
      "dtypes: int64(5), object(6)\n",
      "memory usage: 57.6+ MB\n",
      "None\n",
      "    Trip Id  Trip  Duration  Start Station Id        Start Time  \\\n",
      "0  28039944            2583              7633  05/01/2024 00:00   \n",
      "1  28039945             666              7032  05/01/2024 00:00   \n",
      "2  28039947            1574              7324  05/01/2024 00:00   \n",
      "3  28039948            2650              7633  05/01/2024 00:00   \n",
      "4  28039949             635              7712  05/01/2024 00:00   \n",
      "5  28039950             932              7102  05/01/2024 00:00   \n",
      "6  28039951            1911              7131  05/01/2024 00:01   \n",
      "7  28039953            2456              7633  05/01/2024 00:01   \n",
      "8  28039955            2486              7633  05/01/2024 00:02   \n",
      "9  28039956             153              7207  05/01/2024 00:03   \n",
      "\n",
      "          Start Station Name  End Station Id          End Time  \\\n",
      "0      Noble St / Queen St W            7548  05/01/2024 00:43   \n",
      "1  Augusta Ave / Dundas St W            7163  05/01/2024 00:11   \n",
      "2   King St W / Charlotte St            7237  05/01/2024 00:26   \n",
      "3      Noble St / Queen St W            7548  05/01/2024 00:44   \n",
      "4       Queen St W / Shaw St            7189  05/01/2024 00:11   \n",
      "5      Nelson St / Duncan St            7139  05/01/2024 00:16   \n",
      "6          Taddle Creek Park            7027  05/01/2024 00:32   \n",
      "7      Noble St / Queen St W            7548  05/01/2024 00:42   \n",
      "8      Noble St / Queen St W            7548  05/01/2024 00:43   \n",
      "9  Dundas St W / Crawford St            7536  05/01/2024 00:05   \n",
      "\n",
      "                 End Station Name  Bike Id      User Type   Model  \n",
      "0  St. Joseph St / Bay St - SMART     3227  Casual Member  ICONIC  \n",
      "1              Yonge St / Wood St     3919  Casual Member  ICONIC  \n",
      "2           Ward St / Wallace Ave     5964  Casual Member  ICONIC  \n",
      "3  St. Joseph St / Bay St - SMART      640  Casual Member  ICONIC  \n",
      "4        Augusta Ave / Denison Sq     1111  Casual Member  ICONIC  \n",
      "5    Glen Edyth Dr / Davenport Rd     1884  Casual Member  ICONIC  \n",
      "6       Beverley St / Dundas St W     5779  Casual Member  ICONIC  \n",
      "7  St. Joseph St / Bay St - SMART     1887  Casual Member  ICONIC  \n",
      "8  St. Joseph St / Bay St - SMART     5067  Casual Member  ICONIC  \n",
      "9    Palmerston Ave / Dundas St W     7074  Casual Member    EFIT  \n"
     ]
    }
   ],
   "source": [
    "# From, https://open.toronto.ca/dataset/bike-share-toronto-ridership-data/\n",
    "# From, zip file, select, Ridership in May 2024.\n",
    "\n",
    "df_May = pd.read_csv('Ridership 2024-05.csv', encoding='latin-1')\n",
    "\n",
    "print(df_May.info())\n",
    "print(df_May.head(10))"
   ]
  },
  {
   "cell_type": "code",
   "execution_count": 5,
   "id": "014866ba",
   "metadata": {},
   "outputs": [
    {
     "name": "stdout",
     "output_type": "stream",
     "text": [
      "The number of rows in the dataset (May 2024) is 685782\n"
     ]
    }
   ],
   "source": [
    "num_of_rows = len(df_May)\n",
    "print(f\"The number of rows in the dataset (May 2024) is {num_of_rows}\")"
   ]
  },
  {
   "cell_type": "markdown",
   "id": "3a3ec4c7",
   "metadata": {},
   "source": [
    "Import Bikeshare ridership csv data file for June 2024"
   ]
  },
  {
   "cell_type": "code",
   "execution_count": 6,
   "id": "14408c95",
   "metadata": {},
   "outputs": [
    {
     "name": "stdout",
     "output_type": "stream",
     "text": [
      "<class 'pandas.core.frame.DataFrame'>\n",
      "RangeIndex: 766068 entries, 0 to 766067\n",
      "Data columns (total 11 columns):\n",
      " #   Column              Non-Null Count   Dtype \n",
      "---  ------              --------------   ----- \n",
      " 0   Trip Id             766068 non-null  int64 \n",
      " 1   Trip  Duration      766068 non-null  int64 \n",
      " 2   Start Station Id    766068 non-null  int64 \n",
      " 3   Start Time          766068 non-null  object\n",
      " 4   Start Station Name  761588 non-null  object\n",
      " 5   End Station Id      766068 non-null  int64 \n",
      " 6   End Time            766068 non-null  object\n",
      " 7   End Station Name    761569 non-null  object\n",
      " 8   Bike Id             766068 non-null  int64 \n",
      " 9   User Type           766068 non-null  object\n",
      " 10  Model               764132 non-null  object\n",
      "dtypes: int64(5), object(6)\n",
      "memory usage: 64.3+ MB\n",
      "None\n",
      "    Trip Id  Trip  Duration  Start Station Id        Start Time  \\\n",
      "0  28829880             683              7109  06/01/2024 00:00   \n",
      "1  28829881            1872              7526  06/01/2024 00:00   \n",
      "2  28829882            1866              7526  06/01/2024 00:00   \n",
      "3  28829883            1039              7160  06/01/2024 00:00   \n",
      "4  28829885             321              7729  06/01/2024 00:00   \n",
      "5  28829886             432              7013  06/01/2024 00:00   \n",
      "6  28829887             662              7269  06/01/2024 00:00   \n",
      "7  28829888            3622              7605  06/01/2024 00:00   \n",
      "8  28829889             421              7389  06/01/2024 00:00   \n",
      "9  28829890             521              7682  06/01/2024 00:00   \n",
      "\n",
      "                        Start Station Name  End Station Id          End Time  \\\n",
      "0          Seaton St / Dundas St E - SMART            7097  06/01/2024 00:11   \n",
      "1                        Bartlett Parkette            7207  06/01/2024 00:31   \n",
      "2                        Bartlett Parkette            7207  06/01/2024 00:31   \n",
      "3                 King St W / Tecumseth St            7684  06/01/2024 00:17   \n",
      "4                         265 Armadale Ave            7561  06/01/2024 00:05   \n",
      "5                 Scott St / The Esplanade            7467  06/01/2024 00:07   \n",
      "6  Toronto Eaton Centre (Yonge St) - SMART            7042  06/01/2024 00:11   \n",
      "7               Lumsden Ave / Eastdale Ave            7091  06/01/2024 01:01   \n",
      "8          College Park - Gerrard Entrance            7027  06/01/2024 00:07   \n",
      "9                 Bathurst St / Front St W            7070  06/01/2024 00:09   \n",
      "\n",
      "                       End Station Name  Bike Id      User Type    Model  \n",
      "0  Riverdale Park North (Broadview Ave)     1122  Casual Member   ICONIC  \n",
      "1             Dundas St W / Crawford St     1817  Casual Member   ICONIC  \n",
      "2             Dundas St W / Crawford St     2025  Casual Member   ICONIC  \n",
      "3            Bay St / Harbour St (East)     6248  Casual Member   ICONIC  \n",
      "4                  Annette St / Jane St     8325  Annual Member  EFIT G5  \n",
      "5        Lower Simcoe St / Bremner Blvd     2123  Casual Member   ICONIC  \n",
      "6        Sherbourne St / Wellesley St E     1758  Casual Member   ICONIC  \n",
      "7               Donlands Subway Station     7585  Casual Member  EFIT G5  \n",
      "8             Beverley St / Dundas St W     9069  Casual Member     EFIT  \n",
      "9      25 York St  Union Station South     3275  Casual Member   ICONIC  \n"
     ]
    }
   ],
   "source": [
    "# From, https://open.toronto.ca/dataset/bike-share-toronto-ridership-data/\n",
    "# From, zip file, select, Ridership in June 2024.\n",
    "\n",
    "df_Jun = pd.read_csv('Ridership 2024-06.csv', encoding='latin-1')\n",
    "\n",
    "print(df_Jun.info())\n",
    "print(df_Jun.head(10))"
   ]
  },
  {
   "cell_type": "code",
   "execution_count": 7,
   "id": "2bea3524",
   "metadata": {},
   "outputs": [
    {
     "name": "stdout",
     "output_type": "stream",
     "text": [
      "The number of rows in the dataset (June 2024) is 766068\n"
     ]
    }
   ],
   "source": [
    "num_of_rows = len(df_Jun)\n",
    "print(f\"The number of rows in the dataset (June 2024) is {num_of_rows}\")"
   ]
  },
  {
   "cell_type": "markdown",
   "id": "3f7978da",
   "metadata": {},
   "source": [
    "Import Bikeshare ridership csv data file for July 2024"
   ]
  },
  {
   "cell_type": "code",
   "execution_count": 8,
   "id": "de063c9c",
   "metadata": {},
   "outputs": [
    {
     "name": "stdout",
     "output_type": "stream",
     "text": [
      "<class 'pandas.core.frame.DataFrame'>\n",
      "RangeIndex: 903387 entries, 0 to 903386\n",
      "Data columns (total 11 columns):\n",
      " #   Column              Non-Null Count   Dtype \n",
      "---  ------              --------------   ----- \n",
      " 0   Trip Id             903387 non-null  int64 \n",
      " 1   Trip  Duration      903387 non-null  int64 \n",
      " 2   Start Station Id    903387 non-null  int64 \n",
      " 3   Start Time          903387 non-null  object\n",
      " 4   Start Station Name  882724 non-null  object\n",
      " 5   End Station Id      903387 non-null  int64 \n",
      " 6   End Time            903387 non-null  object\n",
      " 7   End Station Name    882170 non-null  object\n",
      " 8   Bike Id             903387 non-null  int64 \n",
      " 9   User Type           903387 non-null  object\n",
      " 10  Model               900585 non-null  object\n",
      "dtypes: int64(5), object(6)\n",
      "memory usage: 75.8+ MB\n",
      "None\n",
      "    Trip Id  Trip  Duration  Start Station Id     Start Time  \\\n",
      "0  29706718             611              7199  7/1/2024 0:00   \n",
      "1  29706719            3592              7242  7/1/2024 0:00   \n",
      "2  29706722             630              7199  7/1/2024 0:00   \n",
      "3  29706723             578              7018  7/1/2024 0:00   \n",
      "4  29706724             503              7045  7/1/2024 0:00   \n",
      "5  29706726             638              7794  7/1/2024 0:00   \n",
      "6  29706729             548              7103  7/1/2024 0:00   \n",
      "7  29706731             648              7048  7/1/2024 0:00   \n",
      "8  29706733            1572              7272  7/1/2024 0:00   \n",
      "9  29706734            1003              7158  7/1/2024 0:00   \n",
      "\n",
      "                            Start Station Name  End Station Id       End Time  \\\n",
      "0                      College St / Markham St            7718  7/1/2024 0:10   \n",
      "1               Lake Shore Blvd W / Ontario Dr            7707  7/1/2024 0:59   \n",
      "2                      College St / Markham St            7718  7/1/2024 0:10   \n",
      "3                       Bremner Blvd / Rees St            7176  7/1/2024 0:09   \n",
      "4                         Bond St / Queen St E            7489  7/1/2024 0:08   \n",
      "5             York St / Harbour St (Love Park)            7048  7/1/2024 0:11   \n",
      "6             Jimmie Simpson Park (Queen St E)            7343  7/1/2024 0:09   \n",
      "7  Front St W / Yonge St (Hockey Hall of Fame)            7176  7/1/2024 0:11   \n",
      "8              Yonge St / Dundonald St - SMART            7671  7/1/2024 0:27   \n",
      "9                      King St W / Stafford St            7268  7/1/2024 0:17   \n",
      "\n",
      "                              End Station Name  Bike Id      User Type  \\\n",
      "0                 St. Andrew's Playground Park     6267  Casual Member   \n",
      "1       Coronation Park (Martin Goodman Trail)     8138  Casual Member   \n",
      "2                 St. Andrew's Playground Park      432  Casual Member   \n",
      "3                 Bathurst St / Fort York Blvd     2265  Casual Member   \n",
      "4                      Sumach St  / Queen St E     1890  Casual Member   \n",
      "5  Front St W / Yonge St (Hockey Hall of Fame)     2339  Casual Member   \n",
      "6     Alton Ave / Dundas St E (Greenwood Park)     3684  Casual Member   \n",
      "7                 Bathurst St / Fort York Blvd      252  Casual Member   \n",
      "8            Yonge St / Montgomery Ave - SMART     7452  Casual Member   \n",
      "9  111 Bond St (North of Dundas St E)  - SMART      994  Casual Member   \n",
      "\n",
      "     Model  \n",
      "0   ICONIC  \n",
      "1  EFIT G5  \n",
      "2   ICONIC  \n",
      "3   ICONIC  \n",
      "4   ICONIC  \n",
      "5   ICONIC  \n",
      "6   ICONIC  \n",
      "7   ICONIC  \n",
      "8  EFIT G5  \n",
      "9   ICONIC  \n"
     ]
    }
   ],
   "source": [
    "# From, https://open.toronto.ca/dataset/bike-share-toronto-ridership-data/\n",
    "# From, zip file, select, Ridership in July 2024.\n",
    "\n",
    "df_Jul = pd.read_csv(\"Ridership 2024-07.csv\", encoding='latin-1')\n",
    "\n",
    "print(df_Jul.info())\n",
    "print(df_Jul.head(10))"
   ]
  },
  {
   "cell_type": "code",
   "execution_count": 9,
   "id": "6c514f11",
   "metadata": {},
   "outputs": [
    {
     "name": "stdout",
     "output_type": "stream",
     "text": [
      "The number of rows in the dataset (July 2024) is 903387\n"
     ]
    }
   ],
   "source": [
    "num_of_rows = len(df_Jul)\n",
    "print(f\"The number of rows in the dataset (July 2024) is {num_of_rows}\")"
   ]
  },
  {
   "cell_type": "markdown",
   "id": "e0bdd841",
   "metadata": {},
   "source": [
    "Import Bikeshare ridership csv data file for August 2024"
   ]
  },
  {
   "cell_type": "code",
   "execution_count": 10,
   "id": "4519afeb",
   "metadata": {},
   "outputs": [
    {
     "name": "stdout",
     "output_type": "stream",
     "text": [
      "<class 'pandas.core.frame.DataFrame'>\n",
      "RangeIndex: 904925 entries, 0 to 904924\n",
      "Data columns (total 11 columns):\n",
      " #   Column              Non-Null Count   Dtype \n",
      "---  ------              --------------   ----- \n",
      " 0   Trip Id             904925 non-null  int64 \n",
      " 1   Trip  Duration      904925 non-null  int64 \n",
      " 2   Start Station Id    904925 non-null  int64 \n",
      " 3   Start Time          904925 non-null  object\n",
      " 4   Start Station Name  876724 non-null  object\n",
      " 5   End Station Id      904925 non-null  int64 \n",
      " 6   End Time            904925 non-null  object\n",
      " 7   End Station Name    876356 non-null  object\n",
      " 8   Bike Id             904925 non-null  int64 \n",
      " 9   User Type           904925 non-null  object\n",
      " 10  Model               902542 non-null  object\n",
      "dtypes: int64(5), object(6)\n",
      "memory usage: 75.9+ MB\n",
      "None\n",
      "    Trip Id  Trip  Duration  Start Station Id        Start Time  \\\n",
      "0  30751094             135              7066  08/01/2024 00:00   \n",
      "1  30751095             897              7660  08/01/2024 00:00   \n",
      "2  30751096             815              7252  08/01/2024 00:00   \n",
      "3  30751097            1021              7324  08/01/2024 00:00   \n",
      "4  30751099             797              7252  08/01/2024 00:00   \n",
      "5  30751100             875              7660  08/01/2024 00:00   \n",
      "6  30751101              73              7816  08/01/2024 00:00   \n",
      "7  30751103            1236              7242  08/01/2024 00:00   \n",
      "8  30751104             592              7542  08/01/2024 00:01   \n",
      "9  30751106             305              7123  08/01/2024 00:01   \n",
      "\n",
      "               Start Station Name  End Station Id          End Time  \\\n",
      "0    Willcocks St / St. George St            7170  08/01/2024 00:02   \n",
      "1                 285 Victoria St            7124  08/01/2024 00:15   \n",
      "2  Robert St / Bloor St W - SMART            7272  08/01/2024 00:13   \n",
      "3        King St W / Charlotte St            7356  08/01/2024 00:17   \n",
      "4  Robert St / Bloor St W - SMART            7272  08/01/2024 00:13   \n",
      "5                 285 Victoria St            7124  08/01/2024 00:14   \n",
      "6            Bay St / Dundas St W            7021  08/01/2024 00:01   \n",
      "7  Lake Shore Blvd W / Ontario Dr            7752  08/01/2024 00:21   \n",
      "8            Queen St W / John St            7667  08/01/2024 00:10   \n",
      "9             424 Wellington St W            7321  08/01/2024 00:06   \n",
      "\n",
      "                   End Station Name  Bike Id      User Type   Model  \n",
      "0        Spadina Ave / Willcocks St     2746  Casual Member  ICONIC  \n",
      "1       Dundas St E / Broadview Ave      213  Casual Member  ICONIC  \n",
      "2   Yonge St / Dundonald St - SMART     3346  Casual Member  ICONIC  \n",
      "3           King St E / Berkeley St     1218  Casual Member  ICONIC  \n",
      "4   Yonge St / Dundonald St - SMART     1765  Annual Member  ICONIC  \n",
      "5       Dundas St E / Broadview Ave     1261  Casual Member  ICONIC  \n",
      "6                Bay St / Albert St     1449  Casual Member  ICONIC  \n",
      "7            1926 Lake Shore Blvd W     5924  Casual Member  ICONIC  \n",
      "8  Spadina Ave / Sussex Ave - SMART     5325  Casual Member  ICONIC  \n",
      "9   Front St W / University Ave (2)      265  Casual Member  ICONIC  \n"
     ]
    }
   ],
   "source": [
    "# From, https://open.toronto.ca/dataset/bike-share-toronto-ridership-data/\n",
    "# From, zip file, select, Ridership in August 2024.\n",
    "\n",
    "df_Aug = pd.read_csv('Ridership 2024-08.csv')\n",
    "\n",
    "print(df_Aug.info())\n",
    "print(df_Aug.head(10))"
   ]
  },
  {
   "cell_type": "code",
   "execution_count": 11,
   "id": "5b4deb75",
   "metadata": {},
   "outputs": [
    {
     "name": "stdout",
     "output_type": "stream",
     "text": [
      "The number of rows in the dataset (August 2024) is 904925\n"
     ]
    }
   ],
   "source": [
    "num_of_rows = len(df_Aug)\n",
    "print(f\"The number of rows in the dataset (August 2024) is {num_of_rows}\")"
   ]
  },
  {
   "cell_type": "markdown",
   "id": "952c58f2",
   "metadata": {},
   "source": [
    "Import Bikeshare ridership csv data file for September 2024"
   ]
  },
  {
   "cell_type": "code",
   "execution_count": 12,
   "id": "52b01ec2",
   "metadata": {},
   "outputs": [
    {
     "name": "stdout",
     "output_type": "stream",
     "text": [
      "<class 'pandas.core.frame.DataFrame'>\n",
      "RangeIndex: 899615 entries, 0 to 899614\n",
      "Data columns (total 11 columns):\n",
      " #   Column              Non-Null Count   Dtype \n",
      "---  ------              --------------   ----- \n",
      " 0   Trip Id             899615 non-null  int64 \n",
      " 1   Trip  Duration      899615 non-null  int64 \n",
      " 2   Start Station Id    899615 non-null  int64 \n",
      " 3   Start Time          899615 non-null  object\n",
      " 4   Start Station Name  868970 non-null  object\n",
      " 5   End Station Id      899615 non-null  int64 \n",
      " 6   End Time            899615 non-null  object\n",
      " 7   End Station Name    868192 non-null  object\n",
      " 8   Bike Id             899615 non-null  int64 \n",
      " 9   User Type           899615 non-null  object\n",
      " 10  Model               896444 non-null  object\n",
      "dtypes: int64(5), object(6)\n",
      "memory usage: 75.5+ MB\n",
      "None\n",
      "    Trip Id  Trip  Duration  Start Station Id        Start Time  \\\n",
      "0  31797566             842              7933  09/01/2024 00:00   \n",
      "1  31797567            2195              7075  09/01/2024 00:00   \n",
      "2  31797568             297              7712  09/01/2024 00:00   \n",
      "3  31797569            4232              7927  09/01/2024 00:00   \n",
      "4  31797570            1869              7253  09/01/2024 00:00   \n",
      "5  31797571             880              7023  09/01/2024 00:00   \n",
      "6  31797572             761              7076  09/01/2024 00:00   \n",
      "7  31797573            1025              7103  09/01/2024 00:00   \n",
      "8  31797575            1576              7077  09/01/2024 00:00   \n",
      "9  31797577            4338              7927  09/01/2024 00:00   \n",
      "\n",
      "                       Start Station Name  End Station Id          End Time  \\\n",
      "0                   Elizabeth St / Elm St            7042  09/01/2024 00:14   \n",
      "1          Queens Quay W / Dan Leckie Way            7462  09/01/2024 00:36   \n",
      "2                    Queen St W / Shaw St            7207  09/01/2024 00:05   \n",
      "3  Strachan Ave / East Liberty St - SMART            7927  09/01/2024 01:10   \n",
      "4            John St  / Mercer St - SMART            7271  09/01/2024 00:31   \n",
      "5                  College St / Borden St            7178  09/01/2024 00:14   \n",
      "6                 York St / Queens Quay W            7757  09/01/2024 00:12   \n",
      "7        Jimmie Simpson Park (Queen St E)            7571  09/01/2024 00:17   \n",
      "8                      College Park South            7259  09/01/2024 00:26   \n",
      "9  Strachan Ave / East Liberty St - SMART            7927  09/01/2024 01:12   \n",
      "\n",
      "                         End Station Name  Bike Id      User Type    Model  \n",
      "0          Sherbourne St / Wellesley St E     6556  Casual Member   ICONIC  \n",
      "1                Richmond St E / Yonge St     7316  Casual Member   ICONIC  \n",
      "2               Dundas St W / Crawford St     1582  Casual Member   ICONIC  \n",
      "3  Strachan Ave / East Liberty St - SMART      772  Casual Member   ICONIC  \n",
      "4         Yonge St / Alexander St - SMART     5989  Casual Member   ICONIC  \n",
      "5                  Dundas St W / Edna Ave     8108  Casual Member  EFIT G5  \n",
      "6                                The Well     4029  Casual Member   ICONIC  \n",
      "7             Highfield Rd / Gerrard St E     6217  Casual Member   ICONIC  \n",
      "8   Lower Spadina Ave / Lake Shore Blvd W     1376  Casual Member   ICONIC  \n",
      "9  Strachan Ave / East Liberty St - SMART     2439  Casual Member   ICONIC  \n"
     ]
    }
   ],
   "source": [
    "# From, https://open.toronto.ca/dataset/bike-share-toronto-ridership-data/\n",
    "# From, zip file, select, Ridership in September 2024.\n",
    "\n",
    "df_Sep = pd.read_csv('Ridership 2024-09.csv')\n",
    "\n",
    "print(df_Sep.info())\n",
    "print(df_Sep.head(10))"
   ]
  },
  {
   "cell_type": "code",
   "execution_count": 13,
   "id": "fcd20678",
   "metadata": {},
   "outputs": [
    {
     "name": "stdout",
     "output_type": "stream",
     "text": [
      "The number of rows in the dataset (September 2024) is 899615\n"
     ]
    }
   ],
   "source": [
    "num_of_rows = len(df_Sep)\n",
    "print(f\"The number of rows in the dataset (September 2024) is {num_of_rows}\")"
   ]
  },
  {
   "cell_type": "markdown",
   "id": "a23587e8",
   "metadata": {},
   "source": [
    "Combine all dataframes (April to  September) into one dataframe"
   ]
  },
  {
   "cell_type": "code",
   "execution_count": 14,
   "id": "58cf7715",
   "metadata": {},
   "outputs": [
    {
     "data": {
      "text/html": [
       "<div>\n",
       "<style scoped>\n",
       "    .dataframe tbody tr th:only-of-type {\n",
       "        vertical-align: middle;\n",
       "    }\n",
       "\n",
       "    .dataframe tbody tr th {\n",
       "        vertical-align: top;\n",
       "    }\n",
       "\n",
       "    .dataframe thead th {\n",
       "        text-align: right;\n",
       "    }\n",
       "</style>\n",
       "<table border=\"1\" class=\"dataframe\">\n",
       "  <thead>\n",
       "    <tr style=\"text-align: right;\">\n",
       "      <th></th>\n",
       "      <th>Trip Id</th>\n",
       "      <th>Trip  Duration</th>\n",
       "      <th>Start Station Id</th>\n",
       "      <th>Start Time</th>\n",
       "      <th>Start Station Name</th>\n",
       "      <th>End Station Id</th>\n",
       "      <th>End Time</th>\n",
       "      <th>End Station Name</th>\n",
       "      <th>Bike Id</th>\n",
       "      <th>User Type</th>\n",
       "      <th>Model</th>\n",
       "    </tr>\n",
       "  </thead>\n",
       "  <tbody>\n",
       "    <tr>\n",
       "      <th>0</th>\n",
       "      <td>27567494</td>\n",
       "      <td>307</td>\n",
       "      <td>7176</td>\n",
       "      <td>04/01/2024 00:00</td>\n",
       "      <td>Bathurst St / Fort York Blvd</td>\n",
       "      <td>7720</td>\n",
       "      <td>04/01/2024 00:05</td>\n",
       "      <td>King St W / Portland St</td>\n",
       "      <td>4851</td>\n",
       "      <td>Casual Member</td>\n",
       "      <td>ICONIC</td>\n",
       "    </tr>\n",
       "    <tr>\n",
       "      <th>1</th>\n",
       "      <td>27567496</td>\n",
       "      <td>479</td>\n",
       "      <td>7169</td>\n",
       "      <td>04/01/2024 00:01</td>\n",
       "      <td>Front St W / Bay St (North Side)</td>\n",
       "      <td>7542</td>\n",
       "      <td>04/01/2024 00:09</td>\n",
       "      <td>Queen St W / John St</td>\n",
       "      <td>3452</td>\n",
       "      <td>Casual Member</td>\n",
       "      <td>ICONIC</td>\n",
       "    </tr>\n",
       "    <tr>\n",
       "      <th>2</th>\n",
       "      <td>27567497</td>\n",
       "      <td>245</td>\n",
       "      <td>7660</td>\n",
       "      <td>04/01/2024 00:01</td>\n",
       "      <td>285 Victoria St</td>\n",
       "      <td>7333</td>\n",
       "      <td>04/01/2024 00:05</td>\n",
       "      <td>King St E / Victoria St</td>\n",
       "      <td>1158</td>\n",
       "      <td>Annual Member</td>\n",
       "      <td>ICONIC</td>\n",
       "    </tr>\n",
       "    <tr>\n",
       "      <th>3</th>\n",
       "      <td>27567504</td>\n",
       "      <td>212</td>\n",
       "      <td>7322</td>\n",
       "      <td>04/01/2024 00:03</td>\n",
       "      <td>King St W / Brant St</td>\n",
       "      <td>7523</td>\n",
       "      <td>04/01/2024 00:07</td>\n",
       "      <td>Lynn Williams St / East Liberty St - SMART</td>\n",
       "      <td>5592</td>\n",
       "      <td>Annual Member</td>\n",
       "      <td>ICONIC</td>\n",
       "    </tr>\n",
       "    <tr>\n",
       "      <th>4</th>\n",
       "      <td>27567505</td>\n",
       "      <td>624</td>\n",
       "      <td>7047</td>\n",
       "      <td>04/01/2024 00:04</td>\n",
       "      <td>University Ave / Gerrard St W (East Side)</td>\n",
       "      <td>7208</td>\n",
       "      <td>04/01/2024 00:14</td>\n",
       "      <td>80 Clinton St (North of College)</td>\n",
       "      <td>1099</td>\n",
       "      <td>Casual Member</td>\n",
       "      <td>ICONIC</td>\n",
       "    </tr>\n",
       "    <tr>\n",
       "      <th>...</th>\n",
       "      <td>...</td>\n",
       "      <td>...</td>\n",
       "      <td>...</td>\n",
       "      <td>...</td>\n",
       "      <td>...</td>\n",
       "      <td>...</td>\n",
       "      <td>...</td>\n",
       "      <td>...</td>\n",
       "      <td>...</td>\n",
       "      <td>...</td>\n",
       "      <td>...</td>\n",
       "    </tr>\n",
       "    <tr>\n",
       "      <th>4563321</th>\n",
       "      <td>32824170</td>\n",
       "      <td>1164</td>\n",
       "      <td>7017</td>\n",
       "      <td>09/30/2024 23:59</td>\n",
       "      <td>Widmer St / Adelaide St W - SMART</td>\n",
       "      <td>7693</td>\n",
       "      <td>10/01/2024 00:18</td>\n",
       "      <td>Mutual St / Shuter St (Arena Gardens)</td>\n",
       "      <td>5090</td>\n",
       "      <td>Casual Member</td>\n",
       "      <td>ICONIC</td>\n",
       "    </tr>\n",
       "    <tr>\n",
       "      <th>4563322</th>\n",
       "      <td>32824171</td>\n",
       "      <td>1002</td>\n",
       "      <td>7713</td>\n",
       "      <td>09/30/2024 23:59</td>\n",
       "      <td>Temperance St / Bay St</td>\n",
       "      <td>7075</td>\n",
       "      <td>10/01/2024 00:16</td>\n",
       "      <td>Queens Quay W / Dan Leckie Way</td>\n",
       "      <td>6322</td>\n",
       "      <td>Casual Member</td>\n",
       "      <td>ICONIC</td>\n",
       "    </tr>\n",
       "    <tr>\n",
       "      <th>4563323</th>\n",
       "      <td>32824172</td>\n",
       "      <td>268</td>\n",
       "      <td>7168</td>\n",
       "      <td>09/30/2024 23:59</td>\n",
       "      <td>Queens Quay / Yonge St</td>\n",
       "      <td>7686</td>\n",
       "      <td>10/01/2024 00:04</td>\n",
       "      <td>Lower Jarvis St / The Esplanade</td>\n",
       "      <td>2928</td>\n",
       "      <td>Casual Member</td>\n",
       "      <td>ICONIC</td>\n",
       "    </tr>\n",
       "    <tr>\n",
       "      <th>4563324</th>\n",
       "      <td>32824174</td>\n",
       "      <td>241</td>\n",
       "      <td>7278</td>\n",
       "      <td>09/30/2024 23:59</td>\n",
       "      <td>Mallon Ave / Jones Ave -SMART</td>\n",
       "      <td>7705</td>\n",
       "      <td>10/01/2024 00:03</td>\n",
       "      <td>Colgate Ave / Carlaw Ave</td>\n",
       "      <td>1874</td>\n",
       "      <td>Casual Member</td>\n",
       "      <td>ICONIC</td>\n",
       "    </tr>\n",
       "    <tr>\n",
       "      <th>4563325</th>\n",
       "      <td>32824179</td>\n",
       "      <td>407</td>\n",
       "      <td>7017</td>\n",
       "      <td>09/30/2024 23:59</td>\n",
       "      <td>Widmer St / Adelaide St W - SMART</td>\n",
       "      <td>7432</td>\n",
       "      <td>10/01/2024 00:06</td>\n",
       "      <td>Frederick St / King St E</td>\n",
       "      <td>2092</td>\n",
       "      <td>Casual Member</td>\n",
       "      <td>ICONIC</td>\n",
       "    </tr>\n",
       "  </tbody>\n",
       "</table>\n",
       "<p>4563326 rows × 11 columns</p>\n",
       "</div>"
      ],
      "text/plain": [
       "          Trip Id  Trip  Duration  Start Station Id        Start Time  \\\n",
       "0        27567494             307              7176  04/01/2024 00:00   \n",
       "1        27567496             479              7169  04/01/2024 00:01   \n",
       "2        27567497             245              7660  04/01/2024 00:01   \n",
       "3        27567504             212              7322  04/01/2024 00:03   \n",
       "4        27567505             624              7047  04/01/2024 00:04   \n",
       "...           ...             ...               ...               ...   \n",
       "4563321  32824170            1164              7017  09/30/2024 23:59   \n",
       "4563322  32824171            1002              7713  09/30/2024 23:59   \n",
       "4563323  32824172             268              7168  09/30/2024 23:59   \n",
       "4563324  32824174             241              7278  09/30/2024 23:59   \n",
       "4563325  32824179             407              7017  09/30/2024 23:59   \n",
       "\n",
       "                                Start Station Name  End Station Id  \\\n",
       "0                     Bathurst St / Fort York Blvd            7720   \n",
       "1                 Front St W / Bay St (North Side)            7542   \n",
       "2                                  285 Victoria St            7333   \n",
       "3                             King St W / Brant St            7523   \n",
       "4        University Ave / Gerrard St W (East Side)            7208   \n",
       "...                                            ...             ...   \n",
       "4563321          Widmer St / Adelaide St W - SMART            7693   \n",
       "4563322                     Temperance St / Bay St            7075   \n",
       "4563323                     Queens Quay / Yonge St            7686   \n",
       "4563324              Mallon Ave / Jones Ave -SMART            7705   \n",
       "4563325          Widmer St / Adelaide St W - SMART            7432   \n",
       "\n",
       "                 End Time                            End Station Name  \\\n",
       "0        04/01/2024 00:05                     King St W / Portland St   \n",
       "1        04/01/2024 00:09                        Queen St W / John St   \n",
       "2        04/01/2024 00:05                     King St E / Victoria St   \n",
       "3        04/01/2024 00:07  Lynn Williams St / East Liberty St - SMART   \n",
       "4        04/01/2024 00:14            80 Clinton St (North of College)   \n",
       "...                   ...                                         ...   \n",
       "4563321  10/01/2024 00:18       Mutual St / Shuter St (Arena Gardens)   \n",
       "4563322  10/01/2024 00:16              Queens Quay W / Dan Leckie Way   \n",
       "4563323  10/01/2024 00:04             Lower Jarvis St / The Esplanade   \n",
       "4563324  10/01/2024 00:03                    Colgate Ave / Carlaw Ave   \n",
       "4563325  10/01/2024 00:06                    Frederick St / King St E   \n",
       "\n",
       "         Bike Id      User Type   Model  \n",
       "0           4851  Casual Member  ICONIC  \n",
       "1           3452  Casual Member  ICONIC  \n",
       "2           1158  Annual Member  ICONIC  \n",
       "3           5592  Annual Member  ICONIC  \n",
       "4           1099  Casual Member  ICONIC  \n",
       "...          ...            ...     ...  \n",
       "4563321     5090  Casual Member  ICONIC  \n",
       "4563322     6322  Casual Member  ICONIC  \n",
       "4563323     2928  Casual Member  ICONIC  \n",
       "4563324     1874  Casual Member  ICONIC  \n",
       "4563325     2092  Casual Member  ICONIC  \n",
       "\n",
       "[4563326 rows x 11 columns]"
      ]
     },
     "metadata": {},
     "output_type": "display_data"
    }
   ],
   "source": [
    "# https://www.geeksforgeeks.org/how-to-combine-two-dataframe-in-python-pandas/\n",
    "\n",
    "# Combined two DataFrames by stacking them vertically (row-wise) using concat().\n",
    "\n",
    "# Note that, by default, pd.concat() will stack rows, so the DataFrames would be stacked on top of each other row by row, \n",
    "# resulting in each DataFrame’s rows being added to the end of the other so each keeping its own default index values unless you set ignore_index=True.\n",
    "\n",
    "# Combine using concat()\n",
    "df = pd.concat([df_April, df_May, df_Jun, df_Jul, df_Aug, df_Sep], ignore_index=True)\n",
    "display(df)"
   ]
  },
  {
   "cell_type": "code",
   "execution_count": 15,
   "id": "c5831528",
   "metadata": {},
   "outputs": [
    {
     "name": "stdout",
     "output_type": "stream",
     "text": [
      "The number of rows in the dataset is 4563326\n"
     ]
    }
   ],
   "source": [
    "num_of_rows = len(df)\n",
    "print(f\"The number of rows in the dataset is {num_of_rows}\")"
   ]
  },
  {
   "cell_type": "markdown",
   "id": "3d26c1f2",
   "metadata": {},
   "source": [
    "Categorize by value counts based on the columns for each"
   ]
  },
  {
   "cell_type": "code",
   "execution_count": 16,
   "id": "1373afc5",
   "metadata": {},
   "outputs": [
    {
     "name": "stdout",
     "output_type": "stream",
     "text": [
      "<class 'pandas.core.frame.DataFrame'>\n",
      "RangeIndex: 4563326 entries, 0 to 4563325\n",
      "Data columns (total 11 columns):\n",
      " #   Column              Dtype \n",
      "---  ------              ----- \n",
      " 0   Trip Id             int64 \n",
      " 1   Trip  Duration      int64 \n",
      " 2   Start Station Id    int64 \n",
      " 3   Start Time          object\n",
      " 4   Start Station Name  object\n",
      " 5   End Station Id      int64 \n",
      " 6   End Time            object\n",
      " 7   End Station Name    object\n",
      " 8   Bike Id             int64 \n",
      " 9   User Type           object\n",
      " 10  Model               object\n",
      "dtypes: int64(5), object(6)\n",
      "memory usage: 383.0+ MB\n",
      "None\n"
     ]
    }
   ],
   "source": [
    "# Print out all the columns for the dataset\n",
    "\n",
    "print(df.info())"
   ]
  },
  {
   "cell_type": "code",
   "execution_count": 17,
   "id": "9ef27a56",
   "metadata": {},
   "outputs": [
    {
     "name": "stdout",
     "output_type": "stream",
     "text": [
      "Trip  Duration\n",
      "449       4715\n",
      "490       4640\n",
      "471       4639\n",
      "428       4634\n",
      "420       4620\n",
      "          ... \n",
      "252316       1\n",
      "36613        1\n",
      "11709        1\n",
      "14578        1\n",
      "11591        1\n",
      "Name: count, Length: 17939, dtype: int64\n"
     ]
    }
   ],
   "source": [
    "# By trip duration\n",
    "\n",
    "print(df['Trip  Duration'].value_counts())"
   ]
  },
  {
   "cell_type": "code",
   "execution_count": 18,
   "id": "4ce6984b",
   "metadata": {},
   "outputs": [
    {
     "name": "stdout",
     "output_type": "stream",
     "text": [
      "Start Station Name\n",
      "York St / Queens Quay W                         36113\n",
      "Bay St / College St (East Side)                 31884\n",
      "Bay St / Queens Quay W (Ferry Terminal)         28181\n",
      "Union Station                                   27781\n",
      "Queens Quay / Yonge St                          26316\n",
      "                                                ...  \n",
      "Dufferin St / Finch Hydro Recreational Trail       38\n",
      "Starspray Ave / Lawrence Ave E                     37\n",
      "O'Connor Dr / Curity Ave - SMART                   20\n",
      "Warehouse EBS-Station                               4\n",
      "2 Church St                                         1\n",
      "Name: count, Length: 904, dtype: int64\n"
     ]
    }
   ],
   "source": [
    "# By name of the starting station\n",
    "\n",
    "print(df['Start Station Name'].value_counts())"
   ]
  },
  {
   "cell_type": "code",
   "execution_count": 19,
   "id": "454a1ab7",
   "metadata": {},
   "outputs": [
    {
     "name": "stdout",
     "output_type": "stream",
     "text": [
      "End Station Name\n",
      "York St / Queens Quay W                         39521\n",
      "King St W / Bay St (West Side)                  36504\n",
      "Union Station                                   34136\n",
      "Bay St / College St (East Side)                 31820\n",
      "Bay St / Queens Quay W (Ferry Terminal)         29242\n",
      "                                                ...  \n",
      "Bike Shop Test Station                             31\n",
      "Dufferin St / Finch Hydro Recreational Trail       30\n",
      "O'Connor Dr / Curity Ave - SMART                   18\n",
      "2 Church St                                         8\n",
      "Warehouse EBS-Station                               8\n",
      "Name: count, Length: 905, dtype: int64\n"
     ]
    }
   ],
   "source": [
    "# By name of the ending station\n",
    "\n",
    "print(df['End Station Name'].value_counts())"
   ]
  },
  {
   "cell_type": "code",
   "execution_count": 20,
   "id": "43549032",
   "metadata": {},
   "outputs": [
    {
     "name": "stdout",
     "output_type": "stream",
     "text": [
      "Start Time\n",
      "7/24/2024 17:53     153\n",
      "09/17/2024 17:07    123\n",
      "09/17/2024 17:57    105\n",
      "08/27/2024 17:35    103\n",
      "09/18/2024 17:10    102\n",
      "                   ... \n",
      "04/20/2024 07:16      1\n",
      "04/20/2024 07:17      1\n",
      "04/20/2024 07:20      1\n",
      "06/10/2024 06:02      1\n",
      "04/01/2024 00:00      1\n",
      "Name: count, Length: 248012, dtype: int64\n"
     ]
    }
   ],
   "source": [
    "# By start time (Full date and time)\n",
    "\n",
    "print(df['Start Time'].value_counts())"
   ]
  },
  {
   "cell_type": "code",
   "execution_count": 21,
   "id": "5a23c8ec",
   "metadata": {},
   "outputs": [
    {
     "name": "stdout",
     "output_type": "stream",
     "text": [
      "End Time\n",
      "09/10/2024 08:55    97\n",
      "7/23/2024 17:29     94\n",
      "09/10/2024 18:27    94\n",
      "09/17/2024 17:20    94\n",
      "09/11/2024 18:03    94\n",
      "                    ..\n",
      "09/19/2024 04:38     1\n",
      "06/20/2024 05:50     1\n",
      "06/20/2024 05:56     1\n",
      "06/20/2024 05:59     1\n",
      "7/3/2024 5:39        1\n",
      "Name: count, Length: 248497, dtype: int64\n"
     ]
    }
   ],
   "source": [
    "# By end time (Full date and time)\n",
    "\n",
    "print(df['End Time'].value_counts())"
   ]
  },
  {
   "cell_type": "code",
   "execution_count": 22,
   "id": "ec94b69c",
   "metadata": {},
   "outputs": [
    {
     "name": "stdout",
     "output_type": "stream",
     "text": [
      "User Type\n",
      "Casual Member    4099929\n",
      "Annual Member     463397\n",
      "Name: count, dtype: int64\n"
     ]
    }
   ],
   "source": [
    "# Type of the membership of Bikeshare\n",
    "\n",
    "print(df['User Type'].value_counts())"
   ]
  },
  {
   "cell_type": "code",
   "execution_count": 23,
   "id": "24a64c72",
   "metadata": {},
   "outputs": [
    {
     "name": "stdout",
     "output_type": "stream",
     "text": [
      "Model\n",
      "ICONIC     3777665\n",
      "EFIT G5     514358\n",
      "EFIT        261011\n",
      "Name: count, dtype: int64\n"
     ]
    }
   ],
   "source": [
    "# By model type of the bike\n",
    "\n",
    "print(df['Model'].value_counts())"
   ]
  },
  {
   "cell_type": "markdown",
   "id": "07f64098",
   "metadata": {},
   "source": [
    "# Data Cleaning Stage\n",
    "\n",
    "Copy/Duplicate the dataset (Unnecessary Steps)"
   ]
  },
  {
   "cell_type": "code",
   "execution_count": 24,
   "id": "433d0c97",
   "metadata": {},
   "outputs": [],
   "source": [
    "new_df = df.copy()"
   ]
  },
  {
   "cell_type": "markdown",
   "id": "3687f6a3",
   "metadata": {},
   "source": [
    "Convert 'Start Time' into datetime type.<br />\n",
    "Then created new column called 'Start Hour' where it record the hour."
   ]
  },
  {
   "cell_type": "code",
   "execution_count": 25,
   "id": "baaf4924",
   "metadata": {},
   "outputs": [],
   "source": [
    "new_df['Start Time'] = pd.to_datetime(new_df['Start Time'])\n",
    "new_df['Start Hour'] = new_df['Start Time'].dt.hour"
   ]
  },
  {
   "cell_type": "code",
   "execution_count": 26,
   "id": "ea07e97d",
   "metadata": {},
   "outputs": [
    {
     "name": "stdout",
     "output_type": "stream",
     "text": [
      "Start Hour\n",
      "17    486195\n",
      "18    424626\n",
      "16    368874\n",
      "19    336200\n",
      "15    285035\n",
      "8     278749\n",
      "20    254626\n",
      "14    249271\n",
      "13    237564\n",
      "12    226355\n",
      "9     198354\n",
      "21    194139\n",
      "11    193969\n",
      "10    169811\n",
      "22    149265\n",
      "7     140485\n",
      "23    115308\n",
      "0      65939\n",
      "6      64949\n",
      "1      40252\n",
      "2      31181\n",
      "5      24160\n",
      "3      16124\n",
      "4      11895\n",
      "Name: count, dtype: int64\n"
     ]
    }
   ],
   "source": [
    "# Start Hour will record the hour in integer to indicate what time of the day has started.\n",
    "\n",
    "print(new_df['Start Hour'].value_counts())"
   ]
  },
  {
   "cell_type": "markdown",
   "id": "5e2c1f78",
   "metadata": {},
   "source": [
    "Do same for 'End Time' and its new column called 'End Hour'."
   ]
  },
  {
   "cell_type": "code",
   "execution_count": 27,
   "id": "20d6e117",
   "metadata": {},
   "outputs": [],
   "source": [
    "new_df['End Time'] = pd.to_datetime(new_df['End Time'])\n",
    "new_df['End Hour'] = new_df['End Time'].dt.hour"
   ]
  },
  {
   "cell_type": "code",
   "execution_count": 28,
   "id": "21fb9adc",
   "metadata": {},
   "outputs": [
    {
     "name": "stdout",
     "output_type": "stream",
     "text": [
      "End Hour\n",
      "17    468379\n",
      "18    441628\n",
      "19    357576\n",
      "16    342481\n",
      "20    276926\n",
      "15    274629\n",
      "8     255640\n",
      "14    241698\n",
      "13    233182\n",
      "9     221342\n",
      "12    217972\n",
      "21    212855\n",
      "11    182826\n",
      "10    164747\n",
      "22    161121\n",
      "23    128387\n",
      "7     118800\n",
      "0      76767\n",
      "6      55103\n",
      "1      44770\n",
      "2      33258\n",
      "5      21294\n",
      "3      19763\n",
      "4      12182\n",
      "Name: count, dtype: int64\n"
     ]
    }
   ],
   "source": [
    "print(new_df['End Hour'].value_counts())"
   ]
  },
  {
   "cell_type": "markdown",
   "id": "bd8c166d",
   "metadata": {},
   "source": [
    "After the process, these are the result,"
   ]
  },
  {
   "cell_type": "code",
   "execution_count": 29,
   "id": "41b7ce25",
   "metadata": {},
   "outputs": [
    {
     "name": "stdout",
     "output_type": "stream",
     "text": [
      "<class 'pandas.core.frame.DataFrame'>\n",
      "RangeIndex: 4563326 entries, 0 to 4563325\n",
      "Data columns (total 13 columns):\n",
      " #   Column              Dtype         \n",
      "---  ------              -----         \n",
      " 0   Trip Id             int64         \n",
      " 1   Trip  Duration      int64         \n",
      " 2   Start Station Id    int64         \n",
      " 3   Start Time          datetime64[ns]\n",
      " 4   Start Station Name  object        \n",
      " 5   End Station Id      int64         \n",
      " 6   End Time            datetime64[ns]\n",
      " 7   End Station Name    object        \n",
      " 8   Bike Id             int64         \n",
      " 9   User Type           object        \n",
      " 10  Model               object        \n",
      " 11  Start Hour          int32         \n",
      " 12  End Hour            int32         \n",
      "dtypes: datetime64[ns](2), int32(2), int64(5), object(4)\n",
      "memory usage: 417.8+ MB\n",
      "None\n",
      "NEW: The number of rows is 4563326\n",
      "OLD: The number of rows is 4563326\n"
     ]
    }
   ],
   "source": [
    "print(new_df.info())\n",
    "\n",
    "num_of_rows = len(new_df)\n",
    "print(f\"NEW: The number of rows is {num_of_rows}\")\n",
    "\n",
    "num_of_rows = len(new_df)\n",
    "print(f\"OLD: The number of rows is {num_of_rows}\")"
   ]
  },
  {
   "cell_type": "markdown",
   "id": "4677e1fa",
   "metadata": {},
   "source": [
    "Duplicate/Copy once more for next stage - Unnecessary Step<br />\n",
    "Next step involves removing missing values and the duplicates."
   ]
  },
  {
   "cell_type": "code",
   "execution_count": 30,
   "id": "a873680e",
   "metadata": {},
   "outputs": [],
   "source": [
    "new_df_2 = new_df.copy()"
   ]
  },
  {
   "cell_type": "markdown",
   "id": "591695c0",
   "metadata": {},
   "source": [
    "Removing the missing values from the dataset."
   ]
  },
  {
   "cell_type": "code",
   "execution_count": 31,
   "id": "ea629d99",
   "metadata": {},
   "outputs": [
    {
     "name": "stdout",
     "output_type": "stream",
     "text": [
      "Trip Id                   0\n",
      "Trip  Duration            0\n",
      "Start Station Id          0\n",
      "Start Time                0\n",
      "Start Station Name    84719\n",
      "End Station Id            0\n",
      "End Time                  0\n",
      "End Station Name      86582\n",
      "Bike Id                   0\n",
      "User Type                 0\n",
      "Model                 10292\n",
      "Start Hour                0\n",
      "End Hour                  0\n",
      "dtype: int64\n",
      "Trip Id               0\n",
      "Trip  Duration        0\n",
      "Start Station Id      0\n",
      "Start Time            0\n",
      "Start Station Name    0\n",
      "End Station Id        0\n",
      "End Time              0\n",
      "End Station Name      0\n",
      "Bike Id               0\n",
      "User Type             0\n",
      "Model                 0\n",
      "Start Hour            0\n",
      "End Hour              0\n",
      "dtype: int64\n"
     ]
    }
   ],
   "source": [
    "print(new_df_2.isnull().sum())\n",
    "\n",
    "new_df_2.dropna(inplace = True)\n",
    "# OR new_df_2 = new_df_2.dropna()\n",
    "\n",
    "print(new_df_2.isnull().sum()) # OR df.isnull().sum()"
   ]
  },
  {
   "cell_type": "markdown",
   "id": "a79e0e91",
   "metadata": {},
   "source": [
    "Remove any duplicates from the dataset.\n",
    "It should done in the missing values."
   ]
  },
  {
   "cell_type": "code",
   "execution_count": 32,
   "id": "90b5aa03",
   "metadata": {},
   "outputs": [
    {
     "name": "stdout",
     "output_type": "stream",
     "text": [
      "Number of duplicate rows: 0\n"
     ]
    }
   ],
   "source": [
    "duplicate_rows = new_df_2.duplicated()\n",
    "print(\"Number of duplicate rows:\", duplicate_rows.sum())"
   ]
  },
  {
   "cell_type": "code",
   "execution_count": 33,
   "id": "91040852",
   "metadata": {},
   "outputs": [],
   "source": [
    "new_df_2.drop_duplicates(inplace = True)"
   ]
  },
  {
   "cell_type": "code",
   "execution_count": 34,
   "id": "fcc68eb8",
   "metadata": {},
   "outputs": [
    {
     "name": "stdout",
     "output_type": "stream",
     "text": [
      "Number of duplicate rows: 0\n"
     ]
    }
   ],
   "source": [
    "duplicate_rows = new_df_2.duplicated()\n",
    "print(\"Number of duplicate rows:\", duplicate_rows.sum())"
   ]
  },
  {
   "cell_type": "markdown",
   "id": "1b8e1687",
   "metadata": {},
   "source": [
    "Finally, after removing missing (and duplicated) values, the number of the row in the dataframe are following:"
   ]
  },
  {
   "cell_type": "code",
   "execution_count": 35,
   "id": "96f3a596",
   "metadata": {},
   "outputs": [
    {
     "name": "stdout",
     "output_type": "stream",
     "text": [
      "The number of rows is 4389436\n"
     ]
    }
   ],
   "source": [
    "num_of_rows = len(new_df_2)\n",
    "print(f\"The number of rows is {num_of_rows}\")"
   ]
  },
  {
   "cell_type": "markdown",
   "id": "08ba5a8b",
   "metadata": {},
   "source": [
    "Graph of the Trip Duration show that, some user used it for 0 to 1 seconds."
   ]
  },
  {
   "cell_type": "code",
   "execution_count": 36,
   "id": "99496a1f",
   "metadata": {},
   "outputs": [
    {
     "data": {
      "image/png": "[encoded data removed]",
      "text/plain": [
       "<Figure size 640x480 with 1 Axes>"
      ]
     },
     "metadata": {},
     "output_type": "display_data"
    }
   ],
   "source": [
    "Trip_Duration_Grouped = new_df_2.groupby(['Trip  Duration'])\n",
    "\n",
    "Trip_Duration_Plot = Trip_Duration_Grouped['Trip  Duration'].agg([np.size])\n",
    "\n",
    "Trip_Duration_Plot.plot()\n",
    "\n",
    "plt.show()"
   ]
  },
  {
   "cell_type": "code",
   "execution_count": 37,
   "id": "3b7d4649",
   "metadata": {},
   "outputs": [
    {
     "name": "stdout",
     "output_type": "stream",
     "text": [
      "                size\n",
      "Trip  Duration      \n",
      "0               2339\n",
      "2               1885\n",
      "4                  1\n",
      "5                  1\n",
      "8                  1\n"
     ]
    }
   ],
   "source": [
    "# Noticed, that there are users who only used for 0 to 2 seconds.\n",
    "# Assuming that they only use it to pick up and drop off instantly.\n",
    "\n",
    "print(Trip_Duration_Plot.head(5))"
   ]
  },
  {
   "cell_type": "markdown",
   "id": "84ffaf9f",
   "metadata": {},
   "source": [
    "Therefore remove users who only use for 0 to 2 seconds."
   ]
  },
  {
   "cell_type": "code",
   "execution_count": 38,
   "id": "6aa8486f",
   "metadata": {},
   "outputs": [
    {
     "name": "stdout",
     "output_type": "stream",
     "text": [
      "After cleaning user with 0 to 2 seconds, there are\n",
      "4385212\n",
      "Originally from 4389436\n"
     ]
    }
   ],
   "source": [
    "new_df_3 = new_df_2.loc[new_df_2['Trip  Duration'] > 3] \n",
    "print(\"After cleaning user with 0 to 2 seconds, there are\")\n",
    "print(len(new_df_3))\n",
    "print(\"Originally from \"+str(len(new_df_2)))"
   ]
  },
  {
   "cell_type": "markdown",
   "id": "57c63222",
   "metadata": {},
   "source": [
    "# Initial Analysis Stage"
   ]
  },
  {
   "cell_type": "markdown",
   "id": "db65e796",
   "metadata": {},
   "source": [
    "The first portion organized based on the duration of the each trip."
   ]
  },
  {
   "cell_type": "code",
   "execution_count": 39,
   "id": "f147a7e8",
   "metadata": {},
   "outputs": [
    {
     "data": {
      "image/png": "[encoded data removed]",
      "text/plain": [
       "<Figure size 640x480 with 1 Axes>"
      ]
     },
     "metadata": {},
     "output_type": "display_data"
    }
   ],
   "source": [
    "# Chart showing overall result.\n",
    "\n",
    "Trip_Duration_Grouped = new_df_3.groupby(['Trip  Duration'])\n",
    "\n",
    "Trip_Duration_Plot = Trip_Duration_Grouped['Trip  Duration'].agg([np.size])\n",
    "\n",
    "Trip_Duration_Plot.plot()\n",
    "\n",
    "plt.show()"
   ]
  },
  {
   "cell_type": "markdown",
   "id": "d8b7fc0c",
   "metadata": {},
   "source": [
    "Number of users who used less than 1 minutes (60 seconds)"
   ]
  },
  {
   "cell_type": "code",
   "execution_count": 40,
   "id": "d7b738f4",
   "metadata": {},
   "outputs": [
    {
     "name": "stdout",
     "output_type": "stream",
     "text": [
      "1928\n"
     ]
    }
   ],
   "source": [
    "Trip_Duration_Below_1_df = new_df_3.loc[new_df_3['Trip  Duration'] < 60] \n",
    "print(len(Trip_Duration_Below_1_df))  # 757"
   ]
  },
  {
   "cell_type": "markdown",
   "id": "80f86579",
   "metadata": {},
   "source": [
    "Number of users who used between one to ten minutes."
   ]
  },
  {
   "cell_type": "code",
   "execution_count": 41,
   "id": "e3e94534",
   "metadata": {},
   "outputs": [
    {
     "name": "stdout",
     "output_type": "stream",
     "text": [
      "1785103\n"
     ]
    },
    {
     "data": {
      "image/png": "[encoded data removed]",
      "text/plain": [
       "<Figure size 640x480 with 1 Axes>"
      ]
     },
     "metadata": {},
     "output_type": "display_data"
    }
   ],
   "source": [
    "Trip_Duration_Below_10_df = new_df_3.loc[(new_df_3['Trip  Duration'] >= 60) & (new_df_3['Trip  Duration'] <= 600)] # Between one minutes (60) to ten minutes (600)\n",
    "print(len(Trip_Duration_Below_10_df)) # 699030\n",
    "\n",
    "Trip_Duration_Grouped = Trip_Duration_Below_10_df.groupby(['Trip  Duration'])\n",
    "\n",
    "Trip_Duration_Plot = Trip_Duration_Grouped['Trip  Duration'].agg([np.size])\n",
    "\n",
    "Trip_Duration_Plot.plot()\n",
    "\n",
    "plt.show() # Peak"
   ]
  },
  {
   "cell_type": "markdown",
   "id": "cf05206a",
   "metadata": {},
   "source": [
    "Number of users whose used bikeshare between 10 to 30 minutes."
   ]
  },
  {
   "cell_type": "code",
   "execution_count": 42,
   "id": "5a7ab242",
   "metadata": {},
   "outputs": [
    {
     "name": "stdout",
     "output_type": "stream",
     "text": [
      "2159993\n"
     ]
    },
    {
     "data": {
      "image/png": "[encoded data removed]",
      "text/plain": [
       "<Figure size 640x480 with 1 Axes>"
      ]
     },
     "metadata": {},
     "output_type": "display_data"
    }
   ],
   "source": [
    "Trip_Duration_Below_30_df = new_df_3.loc[(new_df_3['Trip  Duration'] > 600) &\n",
    "                                   (new_df_3['Trip  Duration'] <= 1800)] \n",
    "print(len(Trip_Duration_Below_30_df)) # 833628\n",
    "\n",
    "Trip_Duration_Grouped = Trip_Duration_Below_30_df.groupby(['Trip  Duration'])\n",
    "\n",
    "Trip_Duration_Plot = Trip_Duration_Grouped['Trip  Duration'].agg([np.size])\n",
    "\n",
    "Trip_Duration_Plot.plot()\n",
    "\n",
    "plt.show() # Decreasing"
   ]
  },
  {
   "cell_type": "markdown",
   "id": "fb7a9ba0",
   "metadata": {},
   "source": [
    "Number of users whose use bikeshare between 30 minutes to 45 minutes."
   ]
  },
  {
   "cell_type": "code",
   "execution_count": 43,
   "id": "2e751fbe",
   "metadata": {},
   "outputs": [
    {
     "name": "stdout",
     "output_type": "stream",
     "text": [
      "256109\n"
     ]
    },
    {
     "data": {
      "image/png": "[encoded data removed]",
      "text/plain": [
       "<Figure size 640x480 with 1 Axes>"
      ]
     },
     "metadata": {},
     "output_type": "display_data"
    }
   ],
   "source": [
    "Trip_Duration_Below_45_df = new_df_3.loc[(new_df_3['Trip  Duration'] > 1800) &\n",
    "                                   (new_df_3['Trip  Duration'] <= 2700)] \n",
    "print(len(Trip_Duration_Below_45_df)) # 90631\n",
    "\n",
    "Trip_Duration_Grouped = Trip_Duration_Below_45_df.groupby(['Trip  Duration'])\n",
    "\n",
    "Trip_Duration_Plot = Trip_Duration_Grouped['Trip  Duration'].agg([np.size])\n",
    "\n",
    "Trip_Duration_Plot.plot()\n",
    "\n",
    "plt.show() # Constantly decreasing"
   ]
  },
  {
   "cell_type": "markdown",
   "id": "e50cce5f",
   "metadata": {},
   "source": [
    "Number of users who use bikeshare between 45 minutes to 90 minutes."
   ]
  },
  {
   "cell_type": "code",
   "execution_count": 44,
   "id": "db783abf",
   "metadata": {},
   "outputs": [
    {
     "name": "stdout",
     "output_type": "stream",
     "text": [
      "138669\n"
     ]
    },
    {
     "data": {
      "image/png": "[encoded data removed]",
      "text/plain": [
       "<Figure size 640x480 with 1 Axes>"
      ]
     },
     "metadata": {},
     "output_type": "display_data"
    }
   ],
   "source": [
    "# Noticed that bikeshare do not usually allow to member to use more than 45 minutes.\n",
    "\n",
    "Trip_Duration_Below_90_df = new_df_3.loc[(new_df_3['Trip  Duration'] > 2700) &\n",
    "                                   (new_df_3['Trip  Duration'] <= 5400)] \n",
    "print(len(Trip_Duration_Below_90_df)) # 47213\n",
    "\n",
    "Trip_Duration_Grouped = Trip_Duration_Below_90_df.groupby(['Trip  Duration'])\n",
    "\n",
    "Trip_Duration_Plot = Trip_Duration_Grouped['Trip  Duration'].agg([np.size])\n",
    "\n",
    "Trip_Duration_Plot.plot()\n",
    "\n",
    "plt.show()"
   ]
  },
  {
   "cell_type": "markdown",
   "id": "5fa7dd2c",
   "metadata": {},
   "source": [
    "Number of users whose use more than 90."
   ]
  },
  {
   "cell_type": "code",
   "execution_count": 45,
   "id": "ddd7a631",
   "metadata": {},
   "outputs": [
    {
     "name": "stdout",
     "output_type": "stream",
     "text": [
      "20546\n"
     ]
    },
    {
     "data": {
      "image/png": "[encoded data removed]",
      "text/plain": [
       "<Figure size 640x480 with 1 Axes>"
      ]
     },
     "metadata": {},
     "output_type": "display_data"
    }
   ],
   "source": [
    "# More than 90 minutes but less than 120 minutes. (With graph)\n",
    "\n",
    "Trip_Duration_Below_120_df = new_df_3.loc[(new_df_3['Trip  Duration'] > 5400) &\n",
    "                                   (new_df_3['Trip  Duration'] <= 7200)] \n",
    "print(len(Trip_Duration_Below_120_df)) # 6824\n",
    "\n",
    "Trip_Duration_Grouped = Trip_Duration_Below_120_df.groupby(['Trip  Duration'])\n",
    "\n",
    "Trip_Duration_Plot = Trip_Duration_Grouped['Trip  Duration'].agg([np.size])\n",
    "\n",
    "Trip_Duration_Plot.plot()\n",
    "\n",
    "plt.show()"
   ]
  },
  {
   "cell_type": "code",
   "execution_count": 46,
   "id": "c38c25dc",
   "metadata": {},
   "outputs": [
    {
     "name": "stdout",
     "output_type": "stream",
     "text": [
      "22864\n"
     ]
    }
   ],
   "source": [
    "# Numbers of user who use more than 120 minutes.\n",
    "\n",
    "Trip_Duration_Above_120_df = new_df_3.loc[new_df_3['Trip  Duration'] > 7200] \n",
    "print(len(Trip_Duration_Above_120_df)) # 7340"
   ]
  },
  {
   "cell_type": "markdown",
   "id": "9e94f1a5",
   "metadata": {},
   "source": [
    "Based on the overall result, the numbers of the peak users occurs between one minutes to 45 minutes period."
   ]
  },
  {
   "cell_type": "code",
   "execution_count": 47,
   "id": "2a1390e7",
   "metadata": {},
   "outputs": [
    {
     "data": {
      "image/png": "[encoded data removed]",
      "text/plain": [
       "<Figure size 640x480 with 1 Axes>"
      ]
     },
     "metadata": {},
     "output_type": "display_data"
    }
   ],
   "source": [
    "Trip_Duration_Overall_df = new_df_3.loc[(new_df_3['Trip  Duration'] > 60) &\n",
    "                                   (new_df_3['Trip  Duration'] <= 5400)] \n",
    "\n",
    "Trip_Duration_Grouped = Trip_Duration_Overall_df.groupby(['Trip  Duration'])\n",
    "\n",
    "Trip_Duration_Plot = Trip_Duration_Grouped['Trip  Duration'].agg([np.size])\n",
    "\n",
    "Trip_Duration_Plot.plot()\n",
    "\n",
    "plt.show() # Most usage occurred between 1 ~ 30 minutes."
   ]
  },
  {
   "cell_type": "markdown",
   "id": "96430aaf",
   "metadata": {},
   "source": [
    "The 'Start Hour' and 'End Hour' used to predict amount of user that use during specific time of the day."
   ]
  },
  {
   "cell_type": "markdown",
   "id": "ed2ba710",
   "metadata": {},
   "source": [
    "Graph for hour of period who pick up the bike. 8am and 5pm are the peak hours to picking up the bike."
   ]
  },
  {
   "cell_type": "code",
   "execution_count": 48,
   "id": "24229310",
   "metadata": {},
   "outputs": [
    {
     "data": {
      "image/png": "[encoded data removed]",
      "text/plain": [
       "<Figure size 640x480 with 1 Axes>"
      ]
     },
     "metadata": {},
     "output_type": "display_data"
    }
   ],
   "source": [
    "Start_Hour_Grouped = new_df_3.groupby(['Start Hour'])\n",
    "\n",
    "Start_Hour_Plot = Start_Hour_Grouped['Start Hour'].agg([np.size])\n",
    "# print(Start_Hour_Plot) # Hour start from 0 (12am) to 23 (11pm)\n",
    "\n",
    "Start_Hour_Plot.plot()\n",
    "\n",
    "plt.show()"
   ]
  },
  {
   "cell_type": "markdown",
   "id": "3d7a316b",
   "metadata": {},
   "source": [
    "Graph for hour of period who drop off the bike. 9am and 6 to 7pm are the peak hours to drop off the bike."
   ]
  },
  {
   "cell_type": "code",
   "execution_count": 49,
   "id": "b37563fc",
   "metadata": {},
   "outputs": [
    {
     "data": {
      "image/png": "[encoded data removed]",
      "text/plain": [
       "<Figure size 640x480 with 1 Axes>"
      ]
     },
     "metadata": {},
     "output_type": "display_data"
    }
   ],
   "source": [
    "End_Hour_Grouped = new_df_3.groupby(['End Hour'])\n",
    "\n",
    "End_Hour_Plot = End_Hour_Grouped['End Hour'].agg([np.size])\n",
    "# print(End_Hour_Plot) # Hour start from 0 (12am) to 23 (11pm)\n",
    "\n",
    "End_Hour_Plot.plot()\n",
    "\n",
    "plt.show()"
   ]
  },
  {
   "cell_type": "markdown",
   "id": "001e598f",
   "metadata": {},
   "source": [
    "For most user bike share station, Downtown Bike Stations the most use station for pick up. Outside of Downtown are the least bike stations that are being used. "
   ]
  },
  {
   "cell_type": "code",
   "execution_count": 50,
   "id": "a31766a4",
   "metadata": {},
   "outputs": [],
   "source": [
    "Start_Station_Grouped = new_df_3.groupby(['Start Station Name'])\n",
    "\n",
    "Start_Station_Plot = Start_Station_Grouped['Start Station Name'].size().sort_values(ascending=False)"
   ]
  },
  {
   "cell_type": "code",
   "execution_count": 51,
   "id": "1a4358c5",
   "metadata": {},
   "outputs": [
    {
     "name": "stdout",
     "output_type": "stream",
     "text": [
      "Top 25 Bike Start Station\n",
      "Start Station Name\n",
      "York St / Queens Quay W                    35167\n",
      "Bay St / College St (East Side)            31401\n",
      "Bay St / Queens Quay W (Ferry Terminal)    27594\n",
      "Union Station                              26851\n",
      "Queens Quay / Yonge St                     25708\n",
      "Bay St / Wellesley St W                    25509\n",
      "College St / Major St                      25176\n",
      "Queen St W / John St                       23690\n",
      "King St W / Portland St                    23647\n",
      "College St / Markham St                    21681\n",
      "Fort York  Blvd / Capreol Ct               21195\n",
      "College St / Huron St                      20543\n",
      "Dundas St W / Crawford St                  20245\n",
      "Bathurst St / Front St W                   20137\n",
      "College Park - Yonge St Entrance           20132\n",
      "Richmond St E / Yonge St                   20063\n",
      "Dundas St W / Yonge St                     19816\n",
      "Baldwin St / Spadina Ave - SMART           19759\n",
      "Widmer St / Adelaide St W - SMART          19460\n",
      "St. George St / Bloor St W                 19436\n",
      "Dundas St E / Regent Park Blvd             19248\n",
      "Spadina Ave / Adelaide St W                18906\n",
      "Wellesley Station Green P                  18854\n",
      "King St W / Bay St (West Side)             18773\n",
      "Strachan Ave / East Liberty St - SMART     18668\n",
      "Name: Start Station Name, dtype: int64\n"
     ]
    }
   ],
   "source": [
    "print(\"Top 25 Bike Start Station\")\n",
    "print(Start_Station_Plot.head(25)) # Mostly Downtown"
   ]
  },
  {
   "cell_type": "code",
   "execution_count": 52,
   "id": "390c5df7",
   "metadata": {},
   "outputs": [
    {
     "name": "stdout",
     "output_type": "stream",
     "text": [
      "\n",
      "Bottom 10 Bike Start Station\n",
      "Start Station Name\n",
      "Priscilla  Ave / Dundas St W                    71\n",
      "Bloor St W / Riverside Ave                      71\n",
      "Lundy Ave / Etienne Brule Park                  53\n",
      "Roehampton St / Bayview Ave                     48\n",
      "Goodwood Park Ct / Dentonia Park                48\n",
      "Dufferin St / Finch Hydro Recreational Trail    38\n",
      "Starspray Ave / Lawrence Ave E                  37\n",
      "O'Connor Dr / Curity Ave - SMART                20\n",
      "Warehouse EBS-Station                            4\n",
      "2 Church St                                      1\n",
      "Name: Start Station Name, dtype: int64\n"
     ]
    }
   ],
   "source": [
    "print(\"\\nBottom 10 Bike Start Station\")\n",
    "print(Start_Station_Plot.tail(10)) # Mostly outside of Downtown"
   ]
  },
  {
   "cell_type": "markdown",
   "id": "cef6fee4",
   "metadata": {},
   "source": [
    "For most user bike share station, Downtown Bike Stations the most use station for drop off as well. Aside from maintaince yard, outside of Downtown Bike Stations are the least use station for drop off as well."
   ]
  },
  {
   "cell_type": "code",
   "execution_count": 53,
   "id": "13c3ccb7",
   "metadata": {},
   "outputs": [],
   "source": [
    "End_Station_Grouped = new_df_3.groupby(['End Station Name'])\n",
    "\n",
    "End_Station_Plot = End_Station_Grouped['End Station Name'].size().sort_values(ascending=False) # .agg([np.size])"
   ]
  },
  {
   "cell_type": "code",
   "execution_count": 54,
   "id": "4805759e",
   "metadata": {},
   "outputs": [
    {
     "name": "stdout",
     "output_type": "stream",
     "text": [
      "Top 25 Bike End Station\n",
      "End Station Name\n",
      "York St / Queens Quay W                          38498\n",
      "King St W / Bay St (West Side)                   35748\n",
      "Union Station                                    32899\n",
      "Bay St / College St (East Side)                  31323\n",
      "Bay St / Queens Quay W (Ferry Terminal)          28563\n",
      "Queens Quay / Yonge St                           27013\n",
      "College St / Major St                            25442\n",
      "Queen St W / John St                             24412\n",
      "King St W / Portland St                          24194\n",
      "College St / Markham St                          21941\n",
      "Dundas St W / Crawford St                        21899\n",
      "University Ave / Gerrard St W (East Side)        21372\n",
      "Dundas St W / Yonge St                           21162\n",
      "Bathurst St/Queens Quay(Billy Bishop Airport)    21128\n",
      "Fort York  Blvd / Capreol Ct                     20603\n",
      "College St / Huron St                            20498\n",
      "Bathurst St / Front St W                         20367\n",
      "Richmond St E / Yonge St                         20237\n",
      "Baldwin St / Spadina Ave - SMART                 20144\n",
      "College Park - Yonge St Entrance                 19893\n",
      "Dundas St E / Regent Park Blvd                   19823\n",
      "Frederick St / King St E                         19782\n",
      "Widmer St / Adelaide St W - SMART                19750\n",
      "St. George St / Bloor St W                       19350\n",
      "Spadina Ave / Adelaide St W                      19178\n",
      "Name: End Station Name, dtype: int64\n"
     ]
    }
   ],
   "source": [
    "print(\"Top 25 Bike End Station\")\n",
    "print(End_Station_Plot.head(25)) # Mostly Downtown"
   ]
  },
  {
   "cell_type": "code",
   "execution_count": 55,
   "id": "1045e768",
   "metadata": {},
   "outputs": [
    {
     "name": "stdout",
     "output_type": "stream",
     "text": [
      "\n",
      "Bottom 10 Bike End Station\n",
      "End Station Name\n",
      "Lundy Ave / Etienne Brule Park                  59\n",
      "Jane St / Lawrence Ave W                        55\n",
      "Starspray Ave / Lawrence Ave E                  43\n",
      "Roehampton St / Bayview Ave                     36\n",
      "Goodwood Park Ct / Dentonia Park                30\n",
      "Dufferin St / Finch Hydro Recreational Trail    30\n",
      "O'Connor Dr / Curity Ave - SMART                18\n",
      "2 Church St                                      8\n",
      "Warehouse EBS-Station                            7\n",
      "Bike Shop Test Station                           7\n",
      "Name: End Station Name, dtype: int64\n"
     ]
    }
   ],
   "source": [
    "print(\"\\nBottom 10 Bike End Station\")\n",
    "print(End_Station_Plot.tail(10)) # Except for Warehouse, outside of Downtown"
   ]
  },
  {
   "cell_type": "markdown",
   "id": "01224dbc",
   "metadata": {},
   "source": [
    "- K-Fold validation on the dataset given."
   ]
  },
  {
   "cell_type": "markdown",
   "id": "11efb604",
   "metadata": {},
   "source": [
    "<h1>10 fold cross-validation with Training/Validation Set</h1>"
   ]
  },
  {
   "cell_type": "markdown",
   "id": "36a3fa01",
   "metadata": {},
   "source": [
    "- First do ten (k-fold) Cross-validation on the training(/validaiton)set<br />\n",
    "- Second do the testing the models on the test set<br />\n",
    "- For spliting Training and testing models, 99.94% of dataset will be using as training 0.05% validation and remaining 0.01% of dataset will beusing as test set."
   ]
  },
  {
   "cell_type": "code",
   "execution_count": 56,
   "id": "1197f3d3",
   "metadata": {},
   "outputs": [],
   "source": [
    "# The data will do cross-validation and SVM will be done using Overall dataset generated in the previous steps.\n",
    "\n",
    "new_df_5 = Trip_Duration_Overall_df.copy()"
   ]
  },
  {
   "cell_type": "code",
   "execution_count": 57,
   "id": "4f9d85ad",
   "metadata": {},
   "outputs": [],
   "source": [
    "# X will be all the columns except for Trip Id, Trip Duration, name of Start/End Station, and date.\n",
    "features = ['Start Station Id','End Station Id','Start Hour','End Hour']\n",
    "\n",
    "X = new_df_5.loc[:, features]\n",
    "y = new_df_5.loc[:, ['Trip  Duration']]"
   ]
  },
  {
   "cell_type": "markdown",
   "id": "d9713601",
   "metadata": {},
   "source": [
    "Spliting Train/Validation Set and Test Set"
   ]
  },
  {
   "cell_type": "code",
   "execution_count": null,
   "id": "ef9a473b",
   "metadata": {},
   "outputs": [],
   "source": [
    "# Split Train(/Validaiton) and Test Set\n",
    "\n",
    "# Due to processing power, the data is divided into validation, training, and testing set instead.\n",
    "# Both validation and testing set will be divided into 0.05% and 0.01% respectively.\n",
    "# Original plan is to divide 70% of training and 30% of testing.\n",
    "\n",
    "X_train_temp, X_test, y_train_temp, y_test = train_test_split(X, y, random_state=0, test_size = .0001)\n",
    "\n",
    "X_val, X_train, y_val, y_train = train_test_split(X_train_temp, y_train_temp, random_state=0, train_size = .0005)"
   ]
  },
  {
   "cell_type": "markdown",
   "id": "c16424eb",
   "metadata": {},
   "source": [
    "Do ten fold"
   ]
  },
  {
   "cell_type": "code",
   "execution_count": 60,
   "id": "707e08b3",
   "metadata": {},
   "outputs": [],
   "source": [
    "# Step necessary to do cross-validation\n",
    "\n",
    "k_folds = KFold(n_splits = 10)"
   ]
  },
  {
   "cell_type": "markdown",
   "id": "cb41ae7a",
   "metadata": {},
   "source": [
    "Using the 10 fold cross validation with \"Linear Regression\""
   ]
  },
  {
   "cell_type": "code",
   "execution_count": null,
   "id": "d7e257b8",
   "metadata": {},
   "outputs": [
    {
     "name": "stdout",
     "output_type": "stream",
     "text": [
      "Cross Validation Scores:  [ 0.00711442  0.02590167  0.01991071 -0.00903185  0.01803499  0.00585696\n",
      " -0.0066975   0.017574    0.01512589  0.00712136]\n",
      "Average CV Score:  0.01009106439819234\n",
      "Number of CV Scores used in Average:  10\n"
     ]
    }
   ],
   "source": [
    "# Create linear regression model\n",
    "linear_reg = linear_model.LinearRegression()\n",
    "\n",
    "# Fit the model for Linear Regression\n",
    "linear_reg.fit(X_val, y_val)\n",
    "\n",
    "# Apply k Fold cross validation\n",
    "linear_scores = cross_val_score(linear_reg, X_val, y_val, cv = k_folds)\n",
    "\n",
    "print(\"Cross Validation Scores: \", linear_scores)\n",
    "print(\"Average CV Score: \", linear_scores.mean())\n",
    "print(\"Number of CV Scores used in Average: \", len(linear_scores)) \n",
    "\n",
    "# Performing predictions on the test dataset\n",
    "y_pred_linear = linear_reg.predict(X_test)"
   ]
  },
  {
   "cell_type": "markdown",
   "id": "2e610797",
   "metadata": {},
   "source": [
    "Using the 10 fold cross validation with \"Decision Tree Regressor\""
   ]
  },
  {
   "cell_type": "code",
   "execution_count": null,
   "id": "3fd23ca0",
   "metadata": {},
   "outputs": [
    {
     "name": "stdout",
     "output_type": "stream",
     "text": [
      "Cross Validation Scores:  [0.00010762 0.0411816  0.0066091  0.02183072 0.05634523 0.0099173\n",
      " 0.02389901 0.00759447 0.04685625 0.00304906]\n",
      "Average CV Score:  0.021739036285851464\n",
      "Number of CV Scores used in Average:  10\n"
     ]
    }
   ],
   "source": [
    "# Create Decision Tree Regressor\n",
    "decision_reg = DecisionTreeRegressor(max_depth = 2, random_state = 42)\n",
    "\n",
    "# Fit the model for Decision Tree Regression\n",
    "decision_reg.fit(X_val, y_val)\n",
    "\n",
    "# Apply k Fold cross validation\n",
    "decision_reg_score = cross_val_score(decision_reg, X_val, y_val, cv = k_folds)\n",
    "\n",
    "print(\"Cross Validation Scores: \", decision_reg_score)\n",
    "print(\"Average CV Score: \", decision_reg_score.mean())\n",
    "print(\"Number of CV Scores used in Average: \", len(decision_reg_score)) \n",
    "\n",
    "# Performing predictions on the test dataset\n",
    "y_pred_decision_reg = decision_reg.predict(X_test)"
   ]
  },
  {
   "cell_type": "markdown",
   "id": "1d32b27d",
   "metadata": {},
   "source": [
    "Using the 10 fold cross validation with \"Random Forest Regressor\""
   ]
  },
  {
   "cell_type": "code",
   "execution_count": null,
   "id": "0715ca95",
   "metadata": {},
   "outputs": [
    {
     "name": "stdout",
     "output_type": "stream",
     "text": [
      "Cross Validation Scores:  [-0.17065476  0.02879787 -0.06811769  0.0379646  -0.04141061 -0.12753492\n",
      " -0.00051879 -0.06338234  0.10251822 -0.24658203]\n",
      "Average CV Score:  -0.0548920449981075\n",
      "Number of CV Scores used in Average:  10\n"
     ]
    }
   ],
   "source": [
    "# Fitting Random Forest Regression to the dataset\n",
    "rf_regressor = RandomForestRegressor(n_estimators=10, random_state=0, oob_score=True)\n",
    "\n",
    "# Fit the regressor with x and y data\n",
    "rf_regressor.fit(X_val, y_val)\n",
    "\n",
    "# Apply k Fold cross validation\n",
    "rf_reg_scores = cross_val_score(rf_regressor, X_val, y_val, cv = k_folds)\n",
    "\n",
    "print(\"Cross Validation Scores: \", rf_reg_scores)\n",
    "print(\"Average CV Score: \", rf_reg_scores.mean())\n",
    "print(\"Number of CV Scores used in Average: \", len(rf_reg_scores)) \n",
    "\n",
    "# Performing predictions on the test dataset\n",
    "y_pred_rf_reg = rf_regressor.predict(X_test)"
   ]
  },
  {
   "cell_type": "markdown",
   "id": "1e34d66f",
   "metadata": {},
   "source": [
    "<h1>Support Vector Machine Stage using Regression</h1>"
   ]
  },
  {
   "cell_type": "markdown",
   "id": "0bd44e40",
   "metadata": {},
   "source": [
    "Support Vector Machine for Regression (Using linear kernel)"
   ]
  },
  {
   "cell_type": "code",
   "execution_count": null,
   "id": "5f1cce6e",
   "metadata": {},
   "outputs": [],
   "source": [
    "# Create an SVR Model with a Linear Kernel\n",
    "svr_regressor = SVR(kernel = 'linear')\n",
    "\n",
    "# Train the model using the Training/Validation dataset \n",
    "svr_regressor.fit(X_val, y_val)\n",
    "\n",
    "# make predictions for Test dataset\n",
    "y_pred_svr_regressor = svr_regressor.predict(X_test) "
   ]
  },
  {
   "cell_type": "markdown",
   "id": "4ffc7488",
   "metadata": {},
   "source": [
    "<h1>Evaluate model</h1>"
   ]
  },
  {
   "cell_type": "code",
   "execution_count": null,
   "id": "a0da8e66",
   "metadata": {},
   "outputs": [
    {
     "name": "stdout",
     "output_type": "stream",
     "text": [
      "Mean Squared Error: 771306.9126184306\n"
     ]
    }
   ],
   "source": [
    "mse = mean_squared_error(y_test, y_pred_svr_regressor)\n",
    "print(f\"Mean Squared Error: {mse}\")"
   ]
  },
  {
   "cell_type": "code",
   "execution_count": null,
   "id": "1e4ef956",
   "metadata": {},
   "outputs": [
    {
     "name": "stdout",
     "output_type": "stream",
     "text": [
      "Mean absolute error: 537.8977970112179\n"
     ]
    }
   ],
   "source": [
    "mae = mean_absolute_error(y_test, y_pred_svr_regressor)\n",
    "print(f\"Mean absolute error: {mae}\")"
   ]
  },
  {
   "cell_type": "code",
   "execution_count": null,
   "id": "398b3901",
   "metadata": {},
   "outputs": [
    {
     "name": "stdout",
     "output_type": "stream",
     "text": [
      "Root Mean Squared Error: 878.240805598573\n"
     ]
    }
   ],
   "source": [
    "rmse = np.sqrt(mean_squared_error(y_test, y_pred_svr_regressor)) # np.sqrt(mse)\n",
    "print(f\"Root Mean Squared Error: {rmse}\")"
   ]
  },
  {
   "cell_type": "code",
   "execution_count": null,
   "id": "4519bfa8",
   "metadata": {},
   "outputs": [
    {
     "name": "stdout",
     "output_type": "stream",
     "text": [
      "The R-squared the (linear svr) model turns out to be -0.08546399583066\n",
      "The R-squared the (linear regression) model turns out to be 0.001014861165721248\n"
     ]
    }
   ],
   "source": [
    "# Calculate R-squared of regression model\n",
    "r_squared = svr_regressor.score(X_test, y_test) \n",
    "r_squared2 = linear_reg.score(X_test, y_test) # model\n",
    "\n",
    "# View R-squared value\n",
    "print(f\"The R-squared the (linear svr) model turns out to be {r_squared}\")\n",
    "print(f\"The R-squared the (linear regression) model turns out to be {r_squared2}\")"
   ]
  },
  {
   "cell_type": "code",
   "execution_count": null,
   "id": "fc415675",
   "metadata": {},
   "outputs": [
    {
     "name": "stdout",
     "output_type": "stream",
     "text": [
      "Average MSE: 771306.9126184306, Std: 0.0\n",
      "Average MAE: 537.8977970112179, Std: 0.0\n",
      "Average RMSE: 878.240805598573, Std: 0.0\n",
      "Average R-squared: -0.08546399583066, Std: 0.0\n"
     ]
    }
   ],
   "source": [
    "average_mse = np.mean(mse)\n",
    "std_mse = np.std(mse)\n",
    "average_mae = np.mean(mae)\n",
    "std_mae = np.std(mae)\n",
    "average_rmse = np.mean(rmse)\n",
    "std_rmse = np.std(rmse)\n",
    "average_r_squared = np.mean(r_squared)\n",
    "std_r_squared = np.std(r_squared)\n",
    "\n",
    "\n",
    "print(f\"Average MSE: {average_mse}, Std: {std_mse}\")\n",
    "print(f\"Average MAE: {average_mae}, Std: {std_mae}\")\n",
    "print(f\"Average RMSE: {average_rmse}, Std: {std_rmse}\")\n",
    "print(f\"Average R-squared: {average_r_squared}, Std: {std_r_squared}\")"
   ]
  }
 ],
 "metadata": {
  "kernelspec": {
   "display_name": "cind840",
   "language": "python",
   "name": "python3"
  },
  "language_info": {
   "codemirror_mode": {
    "name": "ipython",
    "version": 3
   },
   "file_extension": ".py",
   "mimetype": "text/x-python",
   "name": "python",
   "nbconvert_exporter": "python",
   "pygments_lexer": "ipython3",
   "version": "3.8.18"
  }
 },
 "nbformat": 4,
 "nbformat_minor": 5
}
