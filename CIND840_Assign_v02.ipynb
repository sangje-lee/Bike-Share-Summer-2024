{
 "cells": [
  {
   "cell_type": "markdown",
   "id": "001c604e",
   "metadata": {},
   "source": [
    "<h1> Assignment #02 </h1>\n",
    "<h3>by Sangjin Lee</h3>\n",
    "Toronto Bike Share Database"
   ]
  },
  {
   "cell_type": "code",
   "execution_count": 24,
   "id": "3a292423",
   "metadata": {},
   "outputs": [],
   "source": [
    "# Required python package using Python 3.8.18 (Anaconda Virutal Environment)\n",
    "# The one with classification look one in v28.\n",
    "\n",
    "import pandas as pd\n",
    "import numpy as np\n",
    "import matplotlib.pyplot as plt\n",
    "import warnings\n",
    "import os\n",
    "\n",
    "# from sklearn import tree\n",
    "from sklearn.model_selection import train_test_split\n",
    "# from sklearn.tree import DecisionTreeRegressor\n",
    "\n",
    "# from sklearn.linear_model import SGDClassifier\n",
    "\n",
    "from sklearn.model_selection import KFold, cross_val_score\n",
    "\n",
    "from sklearn import linear_model\n",
    "from sklearn.tree import DecisionTreeRegressor\n",
    "from sklearn.ensemble import RandomForestRegressor\n",
    "from sklearn.svm import SVR\n",
    "from sklearn.metrics import mean_squared_error\n",
    "from sklearn.metrics import mean_absolute_error\n",
    "\n",
    "warnings.filterwarnings('ignore')"
   ]
  },
  {
   "cell_type": "code",
   "execution_count": 25,
   "id": "0c6324b9",
   "metadata": {},
   "outputs": [
    {
     "name": "stdout",
     "output_type": "stream",
     "text": [
      "<class 'pandas.core.frame.DataFrame'>\n",
      "RangeIndex: 403549 entries, 0 to 403548\n",
      "Data columns (total 11 columns):\n",
      " #   Column              Non-Null Count   Dtype \n",
      "---  ------              --------------   ----- \n",
      " 0   Trip Id             403549 non-null  int64 \n",
      " 1   Trip  Duration      403549 non-null  int64 \n",
      " 2   Start Station Id    403549 non-null  int64 \n",
      " 3   Start Time          403549 non-null  object\n",
      " 4   Start Station Name  402853 non-null  object\n",
      " 5   End Station Id      403549 non-null  int64 \n",
      " 6   End Time            403549 non-null  object\n",
      " 7   End Station Name    402713 non-null  object\n",
      " 8   Bike Id             403549 non-null  int64 \n",
      " 9   User Type           403549 non-null  object\n",
      " 10  Model               403549 non-null  object\n",
      "dtypes: int64(5), object(6)\n",
      "memory usage: 33.9+ MB\n",
      "None\n",
      "    Trip Id  Trip  Duration  Start Station Id        Start Time  \\\n",
      "0  27567494             307              7176  04/01/2024 00:00   \n",
      "1  27567496             479              7169  04/01/2024 00:01   \n",
      "2  27567497             245              7660  04/01/2024 00:01   \n",
      "3  27567504             212              7322  04/01/2024 00:03   \n",
      "4  27567505             624              7047  04/01/2024 00:04   \n",
      "5  27567506             196              7322  04/01/2024 00:04   \n",
      "6  27567513             713              7169  04/01/2024 00:06   \n",
      "7  27567514             844              7224  04/01/2024 00:06   \n",
      "8  27567515            1957              7720  04/01/2024 00:06   \n",
      "9  27567517             794              7233  04/01/2024 00:07   \n",
      "\n",
      "                          Start Station Name  End Station Id  \\\n",
      "0               Bathurst St / Fort York Blvd            7720   \n",
      "1           Front St W / Bay St (North Side)            7542   \n",
      "2                            285 Victoria St            7333   \n",
      "3                       King St W / Brant St            7523   \n",
      "4  University Ave / Gerrard St W (East Side)            7208   \n",
      "5                       King St W / Brant St            7523   \n",
      "6           Front St W / Bay St (North Side)            7236   \n",
      "7     Bloor St W / High Park Ave (High Park)            7564   \n",
      "8                    King St W / Portland St            7184   \n",
      "9                   King / Cowan Ave - SMART            7256   \n",
      "\n",
      "           End Time                            End Station Name  Bike Id  \\\n",
      "0  04/01/2024 00:05                     King St W / Portland St     4851   \n",
      "1  04/01/2024 00:09                        Queen St W / John St     3452   \n",
      "2  04/01/2024 00:05                     King St E / Victoria St     1158   \n",
      "3  04/01/2024 00:07  Lynn Williams St / East Liberty St - SMART     5592   \n",
      "4  04/01/2024 00:14            80 Clinton St (North of College)     1099   \n",
      "5  04/01/2024 00:07  Lynn Williams St / East Liberty St - SMART     4463   \n",
      "6  04/01/2024 00:18         Thompson St / Broadview Ave - SMART     6560   \n",
      "7  04/01/2024 00:20                      Durie St / Dundas St W     5218   \n",
      "8  04/01/2024 00:39                  Ossington Ave / College St     4851   \n",
      "9  04/01/2024 00:20            Vanauley St / Queen St W - SMART     1636   \n",
      "\n",
      "       User Type   Model  \n",
      "0  Casual Member  ICONIC  \n",
      "1  Casual Member  ICONIC  \n",
      "2  Annual Member  ICONIC  \n",
      "3  Annual Member  ICONIC  \n",
      "4  Casual Member  ICONIC  \n",
      "5  Annual Member  ICONIC  \n",
      "6  Casual Member  ICONIC  \n",
      "7  Casual Member  ICONIC  \n",
      "8  Casual Member  ICONIC  \n",
      "9  Casual Member  ICONIC  \n"
     ]
    }
   ],
   "source": [
    "# From, https://open.toronto.ca/dataset/bike-share-toronto-ridership-data/\n",
    "# From, zip file, select, Ridership in Aug 2024.\n",
    "\n",
    "df_Test = pd.read_csv('Ridership 2024-04.csv', encoding='latin-1')\n",
    "\n",
    "print(df_Test.info())\n",
    "print(df_Test.head(10))"
   ]
  },
  {
   "cell_type": "code",
   "execution_count": 26,
   "id": "1bf559f7",
   "metadata": {},
   "outputs": [
    {
     "name": "stdout",
     "output_type": "stream",
     "text": [
      "<class 'pandas.core.frame.DataFrame'>\n",
      "RangeIndex: 685782 entries, 0 to 685781\n",
      "Data columns (total 11 columns):\n",
      " #   Column              Non-Null Count   Dtype \n",
      "---  ------              --------------   ----- \n",
      " 0   Trip Id             685782 non-null  int64 \n",
      " 1   Trip  Duration      685782 non-null  int64 \n",
      " 2   Start Station Id    685782 non-null  int64 \n",
      " 3   Start Time          685782 non-null  object\n",
      " 4   Start Station Name  685748 non-null  object\n",
      " 5   End Station Id      685782 non-null  int64 \n",
      " 6   End Time            685782 non-null  object\n",
      " 7   End Station Name    685744 non-null  object\n",
      " 8   Bike Id             685782 non-null  int64 \n",
      " 9   User Type           685782 non-null  object\n",
      " 10  Model               685782 non-null  object\n",
      "dtypes: int64(5), object(6)\n",
      "memory usage: 57.6+ MB\n",
      "None\n",
      "    Trip Id  Trip  Duration  Start Station Id        Start Time  \\\n",
      "0  28039944            2583              7633  05/01/2024 00:00   \n",
      "1  28039945             666              7032  05/01/2024 00:00   \n",
      "2  28039947            1574              7324  05/01/2024 00:00   \n",
      "3  28039948            2650              7633  05/01/2024 00:00   \n",
      "4  28039949             635              7712  05/01/2024 00:00   \n",
      "5  28039950             932              7102  05/01/2024 00:00   \n",
      "6  28039951            1911              7131  05/01/2024 00:01   \n",
      "7  28039953            2456              7633  05/01/2024 00:01   \n",
      "8  28039955            2486              7633  05/01/2024 00:02   \n",
      "9  28039956             153              7207  05/01/2024 00:03   \n",
      "\n",
      "          Start Station Name  End Station Id          End Time  \\\n",
      "0      Noble St / Queen St W            7548  05/01/2024 00:43   \n",
      "1  Augusta Ave / Dundas St W            7163  05/01/2024 00:11   \n",
      "2   King St W / Charlotte St            7237  05/01/2024 00:26   \n",
      "3      Noble St / Queen St W            7548  05/01/2024 00:44   \n",
      "4       Queen St W / Shaw St            7189  05/01/2024 00:11   \n",
      "5      Nelson St / Duncan St            7139  05/01/2024 00:16   \n",
      "6          Taddle Creek Park            7027  05/01/2024 00:32   \n",
      "7      Noble St / Queen St W            7548  05/01/2024 00:42   \n",
      "8      Noble St / Queen St W            7548  05/01/2024 00:43   \n",
      "9  Dundas St W / Crawford St            7536  05/01/2024 00:05   \n",
      "\n",
      "                 End Station Name  Bike Id      User Type   Model  \n",
      "0  St. Joseph St / Bay St - SMART     3227  Casual Member  ICONIC  \n",
      "1              Yonge St / Wood St     3919  Casual Member  ICONIC  \n",
      "2           Ward St / Wallace Ave     5964  Casual Member  ICONIC  \n",
      "3  St. Joseph St / Bay St - SMART      640  Casual Member  ICONIC  \n",
      "4        Augusta Ave / Denison Sq     1111  Casual Member  ICONIC  \n",
      "5    Glen Edyth Dr / Davenport Rd     1884  Casual Member  ICONIC  \n",
      "6       Beverley St / Dundas St W     5779  Casual Member  ICONIC  \n",
      "7  St. Joseph St / Bay St - SMART     1887  Casual Member  ICONIC  \n",
      "8  St. Joseph St / Bay St - SMART     5067  Casual Member  ICONIC  \n",
      "9    Palmerston Ave / Dundas St W     7074  Casual Member    EFIT  \n"
     ]
    }
   ],
   "source": [
    "# From, https://open.toronto.ca/dataset/bike-share-toronto-ridership-data/\n",
    "# From, zip file, select, Ridership in Aug 2024.\n",
    "\n",
    "df_May = pd.read_csv('Ridership 2024-05.csv', encoding='latin-1')\n",
    "\n",
    "print(df_May.info())\n",
    "print(df_May.head(10))"
   ]
  },
  {
   "cell_type": "code",
   "execution_count": 27,
   "id": "14408c95",
   "metadata": {},
   "outputs": [
    {
     "name": "stdout",
     "output_type": "stream",
     "text": [
      "<class 'pandas.core.frame.DataFrame'>\n",
      "RangeIndex: 766068 entries, 0 to 766067\n",
      "Data columns (total 11 columns):\n",
      " #   Column              Non-Null Count   Dtype \n",
      "---  ------              --------------   ----- \n",
      " 0   Trip Id             766068 non-null  int64 \n",
      " 1   Trip  Duration      766068 non-null  int64 \n",
      " 2   Start Station Id    766068 non-null  int64 \n",
      " 3   Start Time          766068 non-null  object\n",
      " 4   Start Station Name  761588 non-null  object\n",
      " 5   End Station Id      766068 non-null  int64 \n",
      " 6   End Time            766068 non-null  object\n",
      " 7   End Station Name    761569 non-null  object\n",
      " 8   Bike Id             766068 non-null  int64 \n",
      " 9   User Type           766068 non-null  object\n",
      " 10  Model               764132 non-null  object\n",
      "dtypes: int64(5), object(6)\n",
      "memory usage: 64.3+ MB\n",
      "None\n",
      "    Trip Id  Trip  Duration  Start Station Id        Start Time  \\\n",
      "0  28829880             683              7109  06/01/2024 00:00   \n",
      "1  28829881            1872              7526  06/01/2024 00:00   \n",
      "2  28829882            1866              7526  06/01/2024 00:00   \n",
      "3  28829883            1039              7160  06/01/2024 00:00   \n",
      "4  28829885             321              7729  06/01/2024 00:00   \n",
      "5  28829886             432              7013  06/01/2024 00:00   \n",
      "6  28829887             662              7269  06/01/2024 00:00   \n",
      "7  28829888            3622              7605  06/01/2024 00:00   \n",
      "8  28829889             421              7389  06/01/2024 00:00   \n",
      "9  28829890             521              7682  06/01/2024 00:00   \n",
      "\n",
      "                        Start Station Name  End Station Id          End Time  \\\n",
      "0          Seaton St / Dundas St E - SMART            7097  06/01/2024 00:11   \n",
      "1                        Bartlett Parkette            7207  06/01/2024 00:31   \n",
      "2                        Bartlett Parkette            7207  06/01/2024 00:31   \n",
      "3                 King St W / Tecumseth St            7684  06/01/2024 00:17   \n",
      "4                         265 Armadale Ave            7561  06/01/2024 00:05   \n",
      "5                 Scott St / The Esplanade            7467  06/01/2024 00:07   \n",
      "6  Toronto Eaton Centre (Yonge St) - SMART            7042  06/01/2024 00:11   \n",
      "7               Lumsden Ave / Eastdale Ave            7091  06/01/2024 01:01   \n",
      "8          College Park - Gerrard Entrance            7027  06/01/2024 00:07   \n",
      "9                 Bathurst St / Front St W            7070  06/01/2024 00:09   \n",
      "\n",
      "                       End Station Name  Bike Id      User Type    Model  \n",
      "0  Riverdale Park North (Broadview Ave)     1122  Casual Member   ICONIC  \n",
      "1             Dundas St W / Crawford St     1817  Casual Member   ICONIC  \n",
      "2             Dundas St W / Crawford St     2025  Casual Member   ICONIC  \n",
      "3            Bay St / Harbour St (East)     6248  Casual Member   ICONIC  \n",
      "4                  Annette St / Jane St     8325  Annual Member  EFIT G5  \n",
      "5        Lower Simcoe St / Bremner Blvd     2123  Casual Member   ICONIC  \n",
      "6        Sherbourne St / Wellesley St E     1758  Casual Member   ICONIC  \n",
      "7               Donlands Subway Station     7585  Casual Member  EFIT G5  \n",
      "8             Beverley St / Dundas St W     9069  Casual Member     EFIT  \n",
      "9      25 York St  Union Station South     3275  Casual Member   ICONIC  \n"
     ]
    }
   ],
   "source": [
    "# From, https://open.toronto.ca/dataset/bike-share-toronto-ridership-data/\n",
    "# From, zip file, select, Ridership in Aug 2024.\n",
    "\n",
    "df_Jun = pd.read_csv('Ridership 2024-06.csv', encoding='latin-1')\n",
    "\n",
    "print(df_Jun.info())\n",
    "print(df_Jun.head(10))"
   ]
  },
  {
   "cell_type": "code",
   "execution_count": 28,
   "id": "de063c9c",
   "metadata": {},
   "outputs": [
    {
     "name": "stdout",
     "output_type": "stream",
     "text": [
      "<class 'pandas.core.frame.DataFrame'>\n",
      "RangeIndex: 903387 entries, 0 to 903386\n",
      "Data columns (total 11 columns):\n",
      " #   Column              Non-Null Count   Dtype \n",
      "---  ------              --------------   ----- \n",
      " 0   Trip Id             903387 non-null  int64 \n",
      " 1   Trip  Duration      903387 non-null  int64 \n",
      " 2   Start Station Id    903387 non-null  int64 \n",
      " 3   Start Time          903387 non-null  object\n",
      " 4   Start Station Name  882724 non-null  object\n",
      " 5   End Station Id      903387 non-null  int64 \n",
      " 6   End Time            903387 non-null  object\n",
      " 7   End Station Name    882170 non-null  object\n",
      " 8   Bike Id             903387 non-null  int64 \n",
      " 9   User Type           903387 non-null  object\n",
      " 10  Model               900585 non-null  object\n",
      "dtypes: int64(5), object(6)\n",
      "memory usage: 75.8+ MB\n",
      "None\n",
      "    Trip Id  Trip  Duration  Start Station Id     Start Time  \\\n",
      "0  29706718             611              7199  7/1/2024 0:00   \n",
      "1  29706719            3592              7242  7/1/2024 0:00   \n",
      "2  29706722             630              7199  7/1/2024 0:00   \n",
      "3  29706723             578              7018  7/1/2024 0:00   \n",
      "4  29706724             503              7045  7/1/2024 0:00   \n",
      "5  29706726             638              7794  7/1/2024 0:00   \n",
      "6  29706729             548              7103  7/1/2024 0:00   \n",
      "7  29706731             648              7048  7/1/2024 0:00   \n",
      "8  29706733            1572              7272  7/1/2024 0:00   \n",
      "9  29706734            1003              7158  7/1/2024 0:00   \n",
      "\n",
      "                            Start Station Name  End Station Id       End Time  \\\n",
      "0                      College St / Markham St            7718  7/1/2024 0:10   \n",
      "1               Lake Shore Blvd W / Ontario Dr            7707  7/1/2024 0:59   \n",
      "2                      College St / Markham St            7718  7/1/2024 0:10   \n",
      "3                       Bremner Blvd / Rees St            7176  7/1/2024 0:09   \n",
      "4                         Bond St / Queen St E            7489  7/1/2024 0:08   \n",
      "5             York St / Harbour St (Love Park)            7048  7/1/2024 0:11   \n",
      "6             Jimmie Simpson Park (Queen St E)            7343  7/1/2024 0:09   \n",
      "7  Front St W / Yonge St (Hockey Hall of Fame)            7176  7/1/2024 0:11   \n",
      "8              Yonge St / Dundonald St - SMART            7671  7/1/2024 0:27   \n",
      "9                      King St W / Stafford St            7268  7/1/2024 0:17   \n",
      "\n",
      "                              End Station Name  Bike Id      User Type  \\\n",
      "0                 St. Andrew's Playground Park     6267  Casual Member   \n",
      "1       Coronation Park (Martin Goodman Trail)     8138  Casual Member   \n",
      "2                 St. Andrew's Playground Park      432  Casual Member   \n",
      "3                 Bathurst St / Fort York Blvd     2265  Casual Member   \n",
      "4                      Sumach St  / Queen St E     1890  Casual Member   \n",
      "5  Front St W / Yonge St (Hockey Hall of Fame)     2339  Casual Member   \n",
      "6     Alton Ave / Dundas St E (Greenwood Park)     3684  Casual Member   \n",
      "7                 Bathurst St / Fort York Blvd      252  Casual Member   \n",
      "8            Yonge St / Montgomery Ave - SMART     7452  Casual Member   \n",
      "9  111 Bond St (North of Dundas St E)  - SMART      994  Casual Member   \n",
      "\n",
      "     Model  \n",
      "0   ICONIC  \n",
      "1  EFIT G5  \n",
      "2   ICONIC  \n",
      "3   ICONIC  \n",
      "4   ICONIC  \n",
      "5   ICONIC  \n",
      "6   ICONIC  \n",
      "7   ICONIC  \n",
      "8  EFIT G5  \n",
      "9   ICONIC  \n"
     ]
    }
   ],
   "source": [
    "# From, https://open.toronto.ca/dataset/bike-share-toronto-ridership-data/\n",
    "# From, zip file, select, Ridership in Aug 2024.\n",
    "\n",
    "df_Jul = pd.read_csv(\"Ridership 2024-07.csv\", encoding='latin-1')\n",
    "\n",
    "print(df_Jul.info())\n",
    "print(df_Jul.head(10))"
   ]
  },
  {
   "cell_type": "markdown",
   "id": "e0bdd841",
   "metadata": {},
   "source": [
    "Import Bikeshare ridership csv data file for August 2024"
   ]
  },
  {
   "cell_type": "code",
   "execution_count": 29,
   "id": "4519afeb",
   "metadata": {},
   "outputs": [
    {
     "name": "stdout",
     "output_type": "stream",
     "text": [
      "<class 'pandas.core.frame.DataFrame'>\n",
      "RangeIndex: 904925 entries, 0 to 904924\n",
      "Data columns (total 11 columns):\n",
      " #   Column              Non-Null Count   Dtype \n",
      "---  ------              --------------   ----- \n",
      " 0   Trip Id             904925 non-null  int64 \n",
      " 1   Trip  Duration      904925 non-null  int64 \n",
      " 2   Start Station Id    904925 non-null  int64 \n",
      " 3   Start Time          904925 non-null  object\n",
      " 4   Start Station Name  876724 non-null  object\n",
      " 5   End Station Id      904925 non-null  int64 \n",
      " 6   End Time            904925 non-null  object\n",
      " 7   End Station Name    876356 non-null  object\n",
      " 8   Bike Id             904925 non-null  int64 \n",
      " 9   User Type           904925 non-null  object\n",
      " 10  Model               902542 non-null  object\n",
      "dtypes: int64(5), object(6)\n",
      "memory usage: 75.9+ MB\n",
      "None\n",
      "    Trip Id  Trip  Duration  Start Station Id        Start Time  \\\n",
      "0  30751094             135              7066  08/01/2024 00:00   \n",
      "1  30751095             897              7660  08/01/2024 00:00   \n",
      "2  30751096             815              7252  08/01/2024 00:00   \n",
      "3  30751097            1021              7324  08/01/2024 00:00   \n",
      "4  30751099             797              7252  08/01/2024 00:00   \n",
      "5  30751100             875              7660  08/01/2024 00:00   \n",
      "6  30751101              73              7816  08/01/2024 00:00   \n",
      "7  30751103            1236              7242  08/01/2024 00:00   \n",
      "8  30751104             592              7542  08/01/2024 00:01   \n",
      "9  30751106             305              7123  08/01/2024 00:01   \n",
      "\n",
      "               Start Station Name  End Station Id          End Time  \\\n",
      "0    Willcocks St / St. George St            7170  08/01/2024 00:02   \n",
      "1                 285 Victoria St            7124  08/01/2024 00:15   \n",
      "2  Robert St / Bloor St W - SMART            7272  08/01/2024 00:13   \n",
      "3        King St W / Charlotte St            7356  08/01/2024 00:17   \n",
      "4  Robert St / Bloor St W - SMART            7272  08/01/2024 00:13   \n",
      "5                 285 Victoria St            7124  08/01/2024 00:14   \n",
      "6            Bay St / Dundas St W            7021  08/01/2024 00:01   \n",
      "7  Lake Shore Blvd W / Ontario Dr            7752  08/01/2024 00:21   \n",
      "8            Queen St W / John St            7667  08/01/2024 00:10   \n",
      "9             424 Wellington St W            7321  08/01/2024 00:06   \n",
      "\n",
      "                   End Station Name  Bike Id      User Type   Model  \n",
      "0        Spadina Ave / Willcocks St     2746  Casual Member  ICONIC  \n",
      "1       Dundas St E / Broadview Ave      213  Casual Member  ICONIC  \n",
      "2   Yonge St / Dundonald St - SMART     3346  Casual Member  ICONIC  \n",
      "3           King St E / Berkeley St     1218  Casual Member  ICONIC  \n",
      "4   Yonge St / Dundonald St - SMART     1765  Annual Member  ICONIC  \n",
      "5       Dundas St E / Broadview Ave     1261  Casual Member  ICONIC  \n",
      "6                Bay St / Albert St     1449  Casual Member  ICONIC  \n",
      "7            1926 Lake Shore Blvd W     5924  Casual Member  ICONIC  \n",
      "8  Spadina Ave / Sussex Ave - SMART     5325  Casual Member  ICONIC  \n",
      "9   Front St W / University Ave (2)      265  Casual Member  ICONIC  \n"
     ]
    }
   ],
   "source": [
    "# From, https://open.toronto.ca/dataset/bike-share-toronto-ridership-data/\n",
    "# From, zip file, select, Ridership in Aug 2024.\n",
    "\n",
    "df_Aug = pd.read_csv('Ridership 2024-08.csv')\n",
    "\n",
    "print(df_Aug.info())\n",
    "print(df_Aug.head(10))"
   ]
  },
  {
   "cell_type": "markdown",
   "id": "952c58f2",
   "metadata": {},
   "source": [
    "Import Bikeshare ridership csv data file for September 2024"
   ]
  },
  {
   "cell_type": "code",
   "execution_count": 30,
   "id": "52b01ec2",
   "metadata": {},
   "outputs": [
    {
     "name": "stdout",
     "output_type": "stream",
     "text": [
      "<class 'pandas.core.frame.DataFrame'>\n",
      "RangeIndex: 899615 entries, 0 to 899614\n",
      "Data columns (total 11 columns):\n",
      " #   Column              Non-Null Count   Dtype \n",
      "---  ------              --------------   ----- \n",
      " 0   Trip Id             899615 non-null  int64 \n",
      " 1   Trip  Duration      899615 non-null  int64 \n",
      " 2   Start Station Id    899615 non-null  int64 \n",
      " 3   Start Time          899615 non-null  object\n",
      " 4   Start Station Name  868970 non-null  object\n",
      " 5   End Station Id      899615 non-null  int64 \n",
      " 6   End Time            899615 non-null  object\n",
      " 7   End Station Name    868192 non-null  object\n",
      " 8   Bike Id             899615 non-null  int64 \n",
      " 9   User Type           899615 non-null  object\n",
      " 10  Model               896444 non-null  object\n",
      "dtypes: int64(5), object(6)\n",
      "memory usage: 75.5+ MB\n",
      "None\n",
      "    Trip Id  Trip  Duration  Start Station Id        Start Time  \\\n",
      "0  31797566             842              7933  09/01/2024 00:00   \n",
      "1  31797567            2195              7075  09/01/2024 00:00   \n",
      "2  31797568             297              7712  09/01/2024 00:00   \n",
      "3  31797569            4232              7927  09/01/2024 00:00   \n",
      "4  31797570            1869              7253  09/01/2024 00:00   \n",
      "5  31797571             880              7023  09/01/2024 00:00   \n",
      "6  31797572             761              7076  09/01/2024 00:00   \n",
      "7  31797573            1025              7103  09/01/2024 00:00   \n",
      "8  31797575            1576              7077  09/01/2024 00:00   \n",
      "9  31797577            4338              7927  09/01/2024 00:00   \n",
      "\n",
      "                       Start Station Name  End Station Id          End Time  \\\n",
      "0                   Elizabeth St / Elm St            7042  09/01/2024 00:14   \n",
      "1          Queens Quay W / Dan Leckie Way            7462  09/01/2024 00:36   \n",
      "2                    Queen St W / Shaw St            7207  09/01/2024 00:05   \n",
      "3  Strachan Ave / East Liberty St - SMART            7927  09/01/2024 01:10   \n",
      "4            John St  / Mercer St - SMART            7271  09/01/2024 00:31   \n",
      "5                  College St / Borden St            7178  09/01/2024 00:14   \n",
      "6                 York St / Queens Quay W            7757  09/01/2024 00:12   \n",
      "7        Jimmie Simpson Park (Queen St E)            7571  09/01/2024 00:17   \n",
      "8                      College Park South            7259  09/01/2024 00:26   \n",
      "9  Strachan Ave / East Liberty St - SMART            7927  09/01/2024 01:12   \n",
      "\n",
      "                         End Station Name  Bike Id      User Type    Model  \n",
      "0          Sherbourne St / Wellesley St E     6556  Casual Member   ICONIC  \n",
      "1                Richmond St E / Yonge St     7316  Casual Member   ICONIC  \n",
      "2               Dundas St W / Crawford St     1582  Casual Member   ICONIC  \n",
      "3  Strachan Ave / East Liberty St - SMART      772  Casual Member   ICONIC  \n",
      "4         Yonge St / Alexander St - SMART     5989  Casual Member   ICONIC  \n",
      "5                  Dundas St W / Edna Ave     8108  Casual Member  EFIT G5  \n",
      "6                                The Well     4029  Casual Member   ICONIC  \n",
      "7             Highfield Rd / Gerrard St E     6217  Casual Member   ICONIC  \n",
      "8   Lower Spadina Ave / Lake Shore Blvd W     1376  Casual Member   ICONIC  \n",
      "9  Strachan Ave / East Liberty St - SMART     2439  Casual Member   ICONIC  \n"
     ]
    }
   ],
   "source": [
    "# From, https://open.toronto.ca/dataset/bike-share-toronto-ridership-data/\n",
    "# From, zip file, select, Ridership in Sept 2024.\n",
    "\n",
    "df_Sep = pd.read_csv('Ridership 2024-09.csv')\n",
    "\n",
    "print(df_Sep.info())\n",
    "print(df_Sep.head(10))"
   ]
  },
  {
   "cell_type": "code",
   "execution_count": 31,
   "id": "fcd20678",
   "metadata": {},
   "outputs": [
    {
     "name": "stdout",
     "output_type": "stream",
     "text": [
      "The number of rows in the dataset (August 2024) is 904925\n",
      "The number of rows in the dataset (September 2024) is 899615\n"
     ]
    }
   ],
   "source": [
    "num_of_rows = len(df_Aug)\n",
    "print(f\"The number of rows in the dataset (August 2024) is {num_of_rows}\")\n",
    "num_of_rows = len(df_Sep)\n",
    "print(f\"The number of rows in the dataset (September 2024) is {num_of_rows}\")"
   ]
  },
  {
   "cell_type": "markdown",
   "id": "a23587e8",
   "metadata": {},
   "source": [
    "Combine two dataframes (August and September) into one dataframe"
   ]
  },
  {
   "cell_type": "code",
   "execution_count": 32,
   "id": "58cf7715",
   "metadata": {},
   "outputs": [
    {
     "data": {
      "text/html": [
       "<div>\n",
       "<style scoped>\n",
       "    .dataframe tbody tr th:only-of-type {\n",
       "        vertical-align: middle;\n",
       "    }\n",
       "\n",
       "    .dataframe tbody tr th {\n",
       "        vertical-align: top;\n",
       "    }\n",
       "\n",
       "    .dataframe thead th {\n",
       "        text-align: right;\n",
       "    }\n",
       "</style>\n",
       "<table border=\"1\" class=\"dataframe\">\n",
       "  <thead>\n",
       "    <tr style=\"text-align: right;\">\n",
       "      <th></th>\n",
       "      <th>Trip Id</th>\n",
       "      <th>Trip  Duration</th>\n",
       "      <th>Start Station Id</th>\n",
       "      <th>Start Time</th>\n",
       "      <th>Start Station Name</th>\n",
       "      <th>End Station Id</th>\n",
       "      <th>End Time</th>\n",
       "      <th>End Station Name</th>\n",
       "      <th>Bike Id</th>\n",
       "      <th>User Type</th>\n",
       "      <th>Model</th>\n",
       "    </tr>\n",
       "  </thead>\n",
       "  <tbody>\n",
       "    <tr>\n",
       "      <th>0</th>\n",
       "      <td>28039944</td>\n",
       "      <td>2583</td>\n",
       "      <td>7633</td>\n",
       "      <td>05/01/2024 00:00</td>\n",
       "      <td>Noble St / Queen St W</td>\n",
       "      <td>7548</td>\n",
       "      <td>05/01/2024 00:43</td>\n",
       "      <td>St. Joseph St / Bay St - SMART</td>\n",
       "      <td>3227</td>\n",
       "      <td>Casual Member</td>\n",
       "      <td>ICONIC</td>\n",
       "    </tr>\n",
       "    <tr>\n",
       "      <th>1</th>\n",
       "      <td>28039945</td>\n",
       "      <td>666</td>\n",
       "      <td>7032</td>\n",
       "      <td>05/01/2024 00:00</td>\n",
       "      <td>Augusta Ave / Dundas St W</td>\n",
       "      <td>7163</td>\n",
       "      <td>05/01/2024 00:11</td>\n",
       "      <td>Yonge St / Wood St</td>\n",
       "      <td>3919</td>\n",
       "      <td>Casual Member</td>\n",
       "      <td>ICONIC</td>\n",
       "    </tr>\n",
       "    <tr>\n",
       "      <th>2</th>\n",
       "      <td>28039947</td>\n",
       "      <td>1574</td>\n",
       "      <td>7324</td>\n",
       "      <td>05/01/2024 00:00</td>\n",
       "      <td>King St W / Charlotte St</td>\n",
       "      <td>7237</td>\n",
       "      <td>05/01/2024 00:26</td>\n",
       "      <td>Ward St / Wallace Ave</td>\n",
       "      <td>5964</td>\n",
       "      <td>Casual Member</td>\n",
       "      <td>ICONIC</td>\n",
       "    </tr>\n",
       "    <tr>\n",
       "      <th>3</th>\n",
       "      <td>28039948</td>\n",
       "      <td>2650</td>\n",
       "      <td>7633</td>\n",
       "      <td>05/01/2024 00:00</td>\n",
       "      <td>Noble St / Queen St W</td>\n",
       "      <td>7548</td>\n",
       "      <td>05/01/2024 00:44</td>\n",
       "      <td>St. Joseph St / Bay St - SMART</td>\n",
       "      <td>640</td>\n",
       "      <td>Casual Member</td>\n",
       "      <td>ICONIC</td>\n",
       "    </tr>\n",
       "    <tr>\n",
       "      <th>4</th>\n",
       "      <td>28039949</td>\n",
       "      <td>635</td>\n",
       "      <td>7712</td>\n",
       "      <td>05/01/2024 00:00</td>\n",
       "      <td>Queen St W / Shaw St</td>\n",
       "      <td>7189</td>\n",
       "      <td>05/01/2024 00:11</td>\n",
       "      <td>Augusta Ave / Denison Sq</td>\n",
       "      <td>1111</td>\n",
       "      <td>Casual Member</td>\n",
       "      <td>ICONIC</td>\n",
       "    </tr>\n",
       "    <tr>\n",
       "      <th>...</th>\n",
       "      <td>...</td>\n",
       "      <td>...</td>\n",
       "      <td>...</td>\n",
       "      <td>...</td>\n",
       "      <td>...</td>\n",
       "      <td>...</td>\n",
       "      <td>...</td>\n",
       "      <td>...</td>\n",
       "      <td>...</td>\n",
       "      <td>...</td>\n",
       "      <td>...</td>\n",
       "    </tr>\n",
       "    <tr>\n",
       "      <th>4159772</th>\n",
       "      <td>32824170</td>\n",
       "      <td>1164</td>\n",
       "      <td>7017</td>\n",
       "      <td>09/30/2024 23:59</td>\n",
       "      <td>Widmer St / Adelaide St W - SMART</td>\n",
       "      <td>7693</td>\n",
       "      <td>10/01/2024 00:18</td>\n",
       "      <td>Mutual St / Shuter St (Arena Gardens)</td>\n",
       "      <td>5090</td>\n",
       "      <td>Casual Member</td>\n",
       "      <td>ICONIC</td>\n",
       "    </tr>\n",
       "    <tr>\n",
       "      <th>4159773</th>\n",
       "      <td>32824171</td>\n",
       "      <td>1002</td>\n",
       "      <td>7713</td>\n",
       "      <td>09/30/2024 23:59</td>\n",
       "      <td>Temperance St / Bay St</td>\n",
       "      <td>7075</td>\n",
       "      <td>10/01/2024 00:16</td>\n",
       "      <td>Queens Quay W / Dan Leckie Way</td>\n",
       "      <td>6322</td>\n",
       "      <td>Casual Member</td>\n",
       "      <td>ICONIC</td>\n",
       "    </tr>\n",
       "    <tr>\n",
       "      <th>4159774</th>\n",
       "      <td>32824172</td>\n",
       "      <td>268</td>\n",
       "      <td>7168</td>\n",
       "      <td>09/30/2024 23:59</td>\n",
       "      <td>Queens Quay / Yonge St</td>\n",
       "      <td>7686</td>\n",
       "      <td>10/01/2024 00:04</td>\n",
       "      <td>Lower Jarvis St / The Esplanade</td>\n",
       "      <td>2928</td>\n",
       "      <td>Casual Member</td>\n",
       "      <td>ICONIC</td>\n",
       "    </tr>\n",
       "    <tr>\n",
       "      <th>4159775</th>\n",
       "      <td>32824174</td>\n",
       "      <td>241</td>\n",
       "      <td>7278</td>\n",
       "      <td>09/30/2024 23:59</td>\n",
       "      <td>Mallon Ave / Jones Ave -SMART</td>\n",
       "      <td>7705</td>\n",
       "      <td>10/01/2024 00:03</td>\n",
       "      <td>Colgate Ave / Carlaw Ave</td>\n",
       "      <td>1874</td>\n",
       "      <td>Casual Member</td>\n",
       "      <td>ICONIC</td>\n",
       "    </tr>\n",
       "    <tr>\n",
       "      <th>4159776</th>\n",
       "      <td>32824179</td>\n",
       "      <td>407</td>\n",
       "      <td>7017</td>\n",
       "      <td>09/30/2024 23:59</td>\n",
       "      <td>Widmer St / Adelaide St W - SMART</td>\n",
       "      <td>7432</td>\n",
       "      <td>10/01/2024 00:06</td>\n",
       "      <td>Frederick St / King St E</td>\n",
       "      <td>2092</td>\n",
       "      <td>Casual Member</td>\n",
       "      <td>ICONIC</td>\n",
       "    </tr>\n",
       "  </tbody>\n",
       "</table>\n",
       "<p>4159777 rows × 11 columns</p>\n",
       "</div>"
      ],
      "text/plain": [
       "          Trip Id  Trip  Duration  Start Station Id        Start Time  \\\n",
       "0        28039944            2583              7633  05/01/2024 00:00   \n",
       "1        28039945             666              7032  05/01/2024 00:00   \n",
       "2        28039947            1574              7324  05/01/2024 00:00   \n",
       "3        28039948            2650              7633  05/01/2024 00:00   \n",
       "4        28039949             635              7712  05/01/2024 00:00   \n",
       "...           ...             ...               ...               ...   \n",
       "4159772  32824170            1164              7017  09/30/2024 23:59   \n",
       "4159773  32824171            1002              7713  09/30/2024 23:59   \n",
       "4159774  32824172             268              7168  09/30/2024 23:59   \n",
       "4159775  32824174             241              7278  09/30/2024 23:59   \n",
       "4159776  32824179             407              7017  09/30/2024 23:59   \n",
       "\n",
       "                        Start Station Name  End Station Id          End Time  \\\n",
       "0                    Noble St / Queen St W            7548  05/01/2024 00:43   \n",
       "1                Augusta Ave / Dundas St W            7163  05/01/2024 00:11   \n",
       "2                 King St W / Charlotte St            7237  05/01/2024 00:26   \n",
       "3                    Noble St / Queen St W            7548  05/01/2024 00:44   \n",
       "4                     Queen St W / Shaw St            7189  05/01/2024 00:11   \n",
       "...                                    ...             ...               ...   \n",
       "4159772  Widmer St / Adelaide St W - SMART            7693  10/01/2024 00:18   \n",
       "4159773             Temperance St / Bay St            7075  10/01/2024 00:16   \n",
       "4159774             Queens Quay / Yonge St            7686  10/01/2024 00:04   \n",
       "4159775      Mallon Ave / Jones Ave -SMART            7705  10/01/2024 00:03   \n",
       "4159776  Widmer St / Adelaide St W - SMART            7432  10/01/2024 00:06   \n",
       "\n",
       "                              End Station Name  Bike Id      User Type   Model  \n",
       "0               St. Joseph St / Bay St - SMART     3227  Casual Member  ICONIC  \n",
       "1                           Yonge St / Wood St     3919  Casual Member  ICONIC  \n",
       "2                        Ward St / Wallace Ave     5964  Casual Member  ICONIC  \n",
       "3               St. Joseph St / Bay St - SMART      640  Casual Member  ICONIC  \n",
       "4                     Augusta Ave / Denison Sq     1111  Casual Member  ICONIC  \n",
       "...                                        ...      ...            ...     ...  \n",
       "4159772  Mutual St / Shuter St (Arena Gardens)     5090  Casual Member  ICONIC  \n",
       "4159773         Queens Quay W / Dan Leckie Way     6322  Casual Member  ICONIC  \n",
       "4159774        Lower Jarvis St / The Esplanade     2928  Casual Member  ICONIC  \n",
       "4159775               Colgate Ave / Carlaw Ave     1874  Casual Member  ICONIC  \n",
       "4159776               Frederick St / King St E     2092  Casual Member  ICONIC  \n",
       "\n",
       "[4159777 rows x 11 columns]"
      ]
     },
     "metadata": {},
     "output_type": "display_data"
    }
   ],
   "source": [
    "# https://www.geeksforgeeks.org/how-to-combine-two-dataframe-in-python-pandas/\n",
    "\n",
    "# Combined two DataFrames by stacking them vertically (row-wise) using concat().\n",
    "\n",
    "# Note that, by default, pd.concat() will stack rows, so the DataFrames would be stacked on top of each other row by row, \n",
    "# resulting in each DataFrame’s rows being added to the end of the other so each keeping its own default index values unless you set ignore_index=True.\n",
    "\n",
    "# Combine using concat()\n",
    "df = pd.concat([df_May, df_Jun, df_Jul, df_Aug, df_Sep], ignore_index=True)\n",
    "display(df)"
   ]
  },
  {
   "cell_type": "code",
   "execution_count": 33,
   "id": "c5831528",
   "metadata": {},
   "outputs": [
    {
     "name": "stdout",
     "output_type": "stream",
     "text": [
      "The number of rows in the dataset is 4159777\n"
     ]
    }
   ],
   "source": [
    "num_of_rows = len(df)\n",
    "print(f\"The number of rows in the dataset is {num_of_rows}\")"
   ]
  },
  {
   "cell_type": "markdown",
   "id": "3d26c1f2",
   "metadata": {},
   "source": [
    "Categorize by value counts based on the columns for each"
   ]
  },
  {
   "cell_type": "code",
   "execution_count": 34,
   "id": "1373afc5",
   "metadata": {},
   "outputs": [
    {
     "name": "stdout",
     "output_type": "stream",
     "text": [
      "<class 'pandas.core.frame.DataFrame'>\n",
      "RangeIndex: 4159777 entries, 0 to 4159776\n",
      "Data columns (total 11 columns):\n",
      " #   Column              Dtype \n",
      "---  ------              ----- \n",
      " 0   Trip Id             int64 \n",
      " 1   Trip  Duration      int64 \n",
      " 2   Start Station Id    int64 \n",
      " 3   Start Time          object\n",
      " 4   Start Station Name  object\n",
      " 5   End Station Id      int64 \n",
      " 6   End Time            object\n",
      " 7   End Station Name    object\n",
      " 8   Bike Id             int64 \n",
      " 9   User Type           object\n",
      " 10  Model               object\n",
      "dtypes: int64(5), object(6)\n",
      "memory usage: 349.1+ MB\n",
      "None\n"
     ]
    }
   ],
   "source": [
    "# Print out all the columns for the dataset\n",
    "\n",
    "print(df.info())"
   ]
  },
  {
   "cell_type": "code",
   "execution_count": 35,
   "id": "9ef27a56",
   "metadata": {},
   "outputs": [
    {
     "name": "stdout",
     "output_type": "stream",
     "text": [
      "Trip  Duration\n",
      "449       4221\n",
      "455       4210\n",
      "471       4201\n",
      "510       4188\n",
      "479       4186\n",
      "          ... \n",
      "31907        1\n",
      "487955       1\n",
      "136421       1\n",
      "49706        1\n",
      "11591        1\n",
      "Name: count, Length: 17211, dtype: int64\n"
     ]
    }
   ],
   "source": [
    "# By trip duration\n",
    "\n",
    "print(df['Trip  Duration'].value_counts())"
   ]
  },
  {
   "cell_type": "code",
   "execution_count": 36,
   "id": "4ce6984b",
   "metadata": {},
   "outputs": [
    {
     "name": "stdout",
     "output_type": "stream",
     "text": [
      "Start Station Name\n",
      "York St / Queens Quay W                    33482\n",
      "Bay St / College St (East Side)            28795\n",
      "Bay St / Queens Quay W (Ferry Terminal)    26194\n",
      "Union Station                              25080\n",
      "Queens Quay / Yonge St                     24611\n",
      "                                           ...  \n",
      "Lindylou Rd / Lanyard Rd                      75\n",
      "Trethewey Dr / Black Creek Dr                 75\n",
      "Jane St / Lawrence Ave W                      68\n",
      "Warehouse EBS-Station                          4\n",
      "2 Church St                                    1\n",
      "Name: count, Length: 807, dtype: int64\n"
     ]
    }
   ],
   "source": [
    "# By name of the starting station\n",
    "\n",
    "print(df['Start Station Name'].value_counts())\n",
    "\n",
    "# By ID of the starting station\n",
    "\n",
    "# print(df['Start Station Id'].value_counts())"
   ]
  },
  {
   "cell_type": "code",
   "execution_count": 37,
   "id": "454a1ab7",
   "metadata": {},
   "outputs": [
    {
     "name": "stdout",
     "output_type": "stream",
     "text": [
      "End Station Name\n",
      "York St / Queens Quay W                    36433\n",
      "King St W / Bay St (West Side)             32556\n",
      "Union Station                              30232\n",
      "Bay St / College St (East Side)            28704\n",
      "Bay St / Queens Quay W (Ferry Terminal)    27232\n",
      "                                           ...  \n",
      "Trethewey Dr / Black Creek Dr                 70\n",
      "Jane St / Lawrence Ave W                      46\n",
      "Bike Shop Test Station                        17\n",
      "2 Church St                                    8\n",
      "Warehouse EBS-Station                          7\n",
      "Name: count, Length: 808, dtype: int64\n"
     ]
    }
   ],
   "source": [
    "# By name of the ending station\n",
    "\n",
    "print(df['End Station Name'].value_counts())\n",
    "\n",
    "# By ID of the ending station\n",
    "\n",
    "# print(df['End Station Id'].value_counts())"
   ]
  },
  {
   "cell_type": "code",
   "execution_count": 38,
   "id": "43549032",
   "metadata": {},
   "outputs": [
    {
     "name": "stdout",
     "output_type": "stream",
     "text": [
      "Start Time\n",
      "7/24/2024 17:53     153\n",
      "09/17/2024 17:07    123\n",
      "09/17/2024 17:57    105\n",
      "08/27/2024 17:35    103\n",
      "09/18/2024 17:10    102\n",
      "                   ... \n",
      "09/16/2024 03:17      1\n",
      "09/16/2024 03:16      1\n",
      "05/18/2024 06:31      1\n",
      "09/16/2024 03:14      1\n",
      "06/18/2024 02:34      1\n",
      "Name: count, Length: 209554, dtype: int64\n"
     ]
    }
   ],
   "source": [
    "# By start time (Full date and time)\n",
    "\n",
    "print(df['Start Time'].value_counts())"
   ]
  },
  {
   "cell_type": "code",
   "execution_count": 39,
   "id": "5a23c8ec",
   "metadata": {},
   "outputs": [
    {
     "name": "stdout",
     "output_type": "stream",
     "text": [
      "End Time\n",
      "09/10/2024 08:55    97\n",
      "09/10/2024 18:27    94\n",
      "09/11/2024 18:03    94\n",
      "7/23/2024 17:29     94\n",
      "09/17/2024 17:20    94\n",
      "                    ..\n",
      "06/12/2024 05:05     1\n",
      "06/12/2024 04:52     1\n",
      "06/12/2024 04:56     1\n",
      "08/04/2024 05:56     1\n",
      "09/09/2024 04:24     1\n",
      "Name: count, Length: 209979, dtype: int64\n"
     ]
    }
   ],
   "source": [
    "# By end time (Full date and time)\n",
    "\n",
    "print(df['End Time'].value_counts())"
   ]
  },
  {
   "cell_type": "code",
   "execution_count": 40,
   "id": "ec94b69c",
   "metadata": {},
   "outputs": [
    {
     "name": "stdout",
     "output_type": "stream",
     "text": [
      "User Type\n",
      "Casual Member    3766366\n",
      "Annual Member     393411\n",
      "Name: count, dtype: int64\n"
     ]
    }
   ],
   "source": [
    "# Type of the membership of Bikeshare\n",
    "\n",
    "print(df['User Type'].value_counts())"
   ]
  },
  {
   "cell_type": "code",
   "execution_count": 41,
   "id": "24a64c72",
   "metadata": {},
   "outputs": [
    {
     "name": "stdout",
     "output_type": "stream",
     "text": [
      "Model\n",
      "ICONIC     3440001\n",
      "EFIT G5     468997\n",
      "EFIT        240487\n",
      "Name: count, dtype: int64\n"
     ]
    }
   ],
   "source": [
    "# By model type of the bike\n",
    "\n",
    "print(df['Model'].value_counts())"
   ]
  },
  {
   "cell_type": "markdown",
   "id": "07f64098",
   "metadata": {},
   "source": [
    "# Data Cleaning Stage\n",
    "\n",
    "Copy/Duplicate the dataset (Unnecessary Steps)"
   ]
  },
  {
   "cell_type": "code",
   "execution_count": 42,
   "id": "433d0c97",
   "metadata": {},
   "outputs": [],
   "source": [
    "new_df = df.copy()"
   ]
  },
  {
   "cell_type": "markdown",
   "id": "3687f6a3",
   "metadata": {},
   "source": [
    "Convert 'Start Time' into datetime type.<br />\n",
    "Then created new column called 'Start Hour' where it record the hour."
   ]
  },
  {
   "cell_type": "code",
   "execution_count": 43,
   "id": "baaf4924",
   "metadata": {},
   "outputs": [],
   "source": [
    "new_df['Start Time'] = pd.to_datetime(new_df['Start Time'])\n",
    "new_df['Start Hour'] = new_df['Start Time'].dt.hour"
   ]
  },
  {
   "cell_type": "code",
   "execution_count": 44,
   "id": "ea07e97d",
   "metadata": {},
   "outputs": [
    {
     "name": "stdout",
     "output_type": "stream",
     "text": [
      "Start Hour\n",
      "17    440054\n",
      "18    385038\n",
      "16    334621\n",
      "19    306488\n",
      "15    259011\n",
      "8     250614\n",
      "20    234837\n",
      "14    226758\n",
      "13    216917\n",
      "12    206497\n",
      "9     180191\n",
      "21    179102\n",
      "11    177697\n",
      "10    155308\n",
      "22    138128\n",
      "7     126920\n",
      "23    107725\n",
      "0      61257\n",
      "6      59060\n",
      "1      37204\n",
      "2      28889\n",
      "5      21761\n",
      "3      14881\n",
      "4      10819\n",
      "Name: count, dtype: int64\n"
     ]
    }
   ],
   "source": [
    "# Start Hour will record the hour in integer to indicate what time of the day has started.\n",
    "\n",
    "print(new_df['Start Hour'].value_counts())"
   ]
  },
  {
   "cell_type": "markdown",
   "id": "5e2c1f78",
   "metadata": {},
   "source": [
    "Do same for 'End Time' and its new column called 'End Hour'."
   ]
  },
  {
   "cell_type": "code",
   "execution_count": 45,
   "id": "20d6e117",
   "metadata": {},
   "outputs": [],
   "source": [
    "new_df['End Time'] = pd.to_datetime(new_df['End Time'])\n",
    "new_df['End Hour'] = new_df['End Time'].dt.hour"
   ]
  },
  {
   "cell_type": "code",
   "execution_count": 46,
   "id": "21fb9adc",
   "metadata": {},
   "outputs": [
    {
     "name": "stdout",
     "output_type": "stream",
     "text": [
      "End Hour\n",
      "17    423533\n",
      "18    400260\n",
      "19    325445\n",
      "16    310914\n",
      "20    254313\n",
      "15    249424\n",
      "8     229824\n",
      "14    220217\n",
      "13    213036\n",
      "9     200338\n",
      "12    199017\n",
      "21    196823\n",
      "11    167355\n",
      "10    150418\n",
      "22    149019\n",
      "23    120033\n",
      "7     107307\n",
      "0      71548\n",
      "6      50086\n",
      "1      41438\n",
      "2      30847\n",
      "5      19149\n",
      "3      18275\n",
      "4      11158\n",
      "Name: count, dtype: int64\n"
     ]
    }
   ],
   "source": [
    "print(new_df['End Hour'].value_counts())"
   ]
  },
  {
   "cell_type": "markdown",
   "id": "bd8c166d",
   "metadata": {},
   "source": [
    "After the process, these are the result,"
   ]
  },
  {
   "cell_type": "code",
   "execution_count": 47,
   "id": "41b7ce25",
   "metadata": {},
   "outputs": [
    {
     "name": "stdout",
     "output_type": "stream",
     "text": [
      "<class 'pandas.core.frame.DataFrame'>\n",
      "RangeIndex: 4159777 entries, 0 to 4159776\n",
      "Data columns (total 13 columns):\n",
      " #   Column              Dtype         \n",
      "---  ------              -----         \n",
      " 0   Trip Id             int64         \n",
      " 1   Trip  Duration      int64         \n",
      " 2   Start Station Id    int64         \n",
      " 3   Start Time          datetime64[ns]\n",
      " 4   Start Station Name  object        \n",
      " 5   End Station Id      int64         \n",
      " 6   End Time            datetime64[ns]\n",
      " 7   End Station Name    object        \n",
      " 8   Bike Id             int64         \n",
      " 9   User Type           object        \n",
      " 10  Model               object        \n",
      " 11  Start Hour          int32         \n",
      " 12  End Hour            int32         \n",
      "dtypes: datetime64[ns](2), int32(2), int64(5), object(4)\n",
      "memory usage: 380.8+ MB\n",
      "None\n",
      "NEW: The number of rows is 4159777\n",
      "OLD: The number of rows is 4159777\n"
     ]
    }
   ],
   "source": [
    "print(new_df.info())\n",
    "\n",
    "num_of_rows = len(new_df)\n",
    "print(f\"NEW: The number of rows is {num_of_rows}\")\n",
    "\n",
    "num_of_rows = len(new_df)\n",
    "print(f\"OLD: The number of rows is {num_of_rows}\")"
   ]
  },
  {
   "cell_type": "markdown",
   "id": "4677e1fa",
   "metadata": {},
   "source": [
    "Duplicate/Copy once more for next stage - Unnecessary Step<br />\n",
    "Next step involves removing missing values and the duplicates."
   ]
  },
  {
   "cell_type": "code",
   "execution_count": 48,
   "id": "a873680e",
   "metadata": {},
   "outputs": [],
   "source": [
    "new_df_2 = new_df.copy()"
   ]
  },
  {
   "cell_type": "markdown",
   "id": "591695c0",
   "metadata": {},
   "source": [
    "Removing the missing values from the dataset."
   ]
  },
  {
   "cell_type": "code",
   "execution_count": 49,
   "id": "ea629d99",
   "metadata": {},
   "outputs": [
    {
     "name": "stdout",
     "output_type": "stream",
     "text": [
      "Trip Id                   0\n",
      "Trip  Duration            0\n",
      "Start Station Id          0\n",
      "Start Time                0\n",
      "Start Station Name    84023\n",
      "End Station Id            0\n",
      "End Time                  0\n",
      "End Station Name      85746\n",
      "Bike Id                   0\n",
      "User Type                 0\n",
      "Model                 10292\n",
      "Start Hour                0\n",
      "End Hour                  0\n",
      "dtype: int64\n",
      "Trip Id               0\n",
      "Trip  Duration        0\n",
      "Start Station Id      0\n",
      "Start Time            0\n",
      "Start Station Name    0\n",
      "End Station Id        0\n",
      "End Time              0\n",
      "End Station Name      0\n",
      "Bike Id               0\n",
      "User Type             0\n",
      "Model                 0\n",
      "Start Hour            0\n",
      "End Hour              0\n",
      "dtype: int64\n"
     ]
    }
   ],
   "source": [
    "print(new_df_2.isnull().sum())\n",
    "\n",
    "new_df_2.dropna(inplace = True)\n",
    "# OR new_df_2 = new_df_2.dropna()\n",
    "\n",
    "print(new_df_2.isnull().sum()) # OR df.isnull().sum()"
   ]
  },
  {
   "cell_type": "markdown",
   "id": "a79e0e91",
   "metadata": {},
   "source": [
    "Remove any duplicates from the dataset.\n",
    "It should done in the missing values."
   ]
  },
  {
   "cell_type": "code",
   "execution_count": 50,
   "id": "90b5aa03",
   "metadata": {},
   "outputs": [
    {
     "name": "stdout",
     "output_type": "stream",
     "text": [
      "Number of duplicate rows: 0\n"
     ]
    }
   ],
   "source": [
    "duplicate_rows = new_df_2.duplicated()\n",
    "print(\"Number of duplicate rows:\", duplicate_rows.sum())"
   ]
  },
  {
   "cell_type": "code",
   "execution_count": 51,
   "id": "91040852",
   "metadata": {},
   "outputs": [],
   "source": [
    "new_df_2.drop_duplicates(inplace = True)"
   ]
  },
  {
   "cell_type": "code",
   "execution_count": 52,
   "id": "fcc68eb8",
   "metadata": {},
   "outputs": [
    {
     "name": "stdout",
     "output_type": "stream",
     "text": [
      "Number of duplicate rows: 0\n"
     ]
    }
   ],
   "source": [
    "duplicate_rows = new_df_2.duplicated()\n",
    "print(\"Number of duplicate rows:\", duplicate_rows.sum())"
   ]
  },
  {
   "cell_type": "markdown",
   "id": "1b8e1687",
   "metadata": {},
   "source": [
    "Finally, after removing missing (and duplicated) values, the number of the row in the dataframe are following:"
   ]
  },
  {
   "cell_type": "code",
   "execution_count": 53,
   "id": "96f3a596",
   "metadata": {},
   "outputs": [
    {
     "name": "stdout",
     "output_type": "stream",
     "text": [
      "The number of rows is 3987409\n"
     ]
    }
   ],
   "source": [
    "num_of_rows = len(new_df_2)\n",
    "print(f\"The number of rows is {num_of_rows}\")"
   ]
  },
  {
   "cell_type": "markdown",
   "id": "08ba5a8b",
   "metadata": {},
   "source": [
    "Graph of the Trip Duration show that, some user used it for 0 to 1 seconds."
   ]
  },
  {
   "cell_type": "code",
   "execution_count": 54,
   "id": "99496a1f",
   "metadata": {},
   "outputs": [
    {
     "data": {
      "image/png": "[encoded data removed]",
      "text/plain": [
       "<Figure size 640x480 with 1 Axes>"
      ]
     },
     "metadata": {},
     "output_type": "display_data"
    }
   ],
   "source": [
    "Trip_Duration_Grouped = new_df_2.groupby(['Trip  Duration'])\n",
    "\n",
    "Trip_Duration_Plot = Trip_Duration_Grouped['Trip  Duration'].agg([np.size])\n",
    "\n",
    "Trip_Duration_Plot.plot()\n",
    "\n",
    "plt.show()"
   ]
  },
  {
   "cell_type": "code",
   "execution_count": 55,
   "id": "3b7d4649",
   "metadata": {},
   "outputs": [
    {
     "name": "stdout",
     "output_type": "stream",
     "text": [
      "                size\n",
      "Trip  Duration      \n",
      "0               1990\n",
      "2               1598\n",
      "4                  1\n",
      "5                  1\n",
      "8                  1\n"
     ]
    }
   ],
   "source": [
    "# Noticed, that there are users who only used for 0 to 2 seconds.\n",
    "# Assuming that they only use it to pick up and drop off instantly.\n",
    "\n",
    "print(Trip_Duration_Plot.head(5))"
   ]
  },
  {
   "cell_type": "markdown",
   "id": "84ffaf9f",
   "metadata": {},
   "source": [
    "Therefore remove users who only use for 0 to 2 seconds."
   ]
  },
  {
   "cell_type": "code",
   "execution_count": 56,
   "id": "6aa8486f",
   "metadata": {},
   "outputs": [
    {
     "name": "stdout",
     "output_type": "stream",
     "text": [
      "After cleaning user with 0 to 2 seconds, there are\n",
      "3983821\n",
      "Originally from 3987409\n"
     ]
    }
   ],
   "source": [
    "new_df_3 = new_df_2.loc[new_df_2['Trip  Duration'] > 3] \n",
    "print(\"After cleaning user with 0 to 2 seconds, there are\")\n",
    "print(len(new_df_3))\n",
    "print(\"Originally from \"+str(len(new_df_2)))"
   ]
  },
  {
   "cell_type": "markdown",
   "id": "57c63222",
   "metadata": {},
   "source": [
    "# Initial Analysis Stage"
   ]
  },
  {
   "cell_type": "markdown",
   "id": "db65e796",
   "metadata": {},
   "source": [
    "The first portion organized based on the duration of the each trip."
   ]
  },
  {
   "cell_type": "code",
   "execution_count": 57,
   "id": "f147a7e8",
   "metadata": {},
   "outputs": [
    {
     "data": {
      "image/png": "[encoded data removed]",
      "text/plain": [
       "<Figure size 640x480 with 1 Axes>"
      ]
     },
     "metadata": {},
     "output_type": "display_data"
    }
   ],
   "source": [
    "# Chart showing overall result.\n",
    "\n",
    "Trip_Duration_Grouped = new_df_3.groupby(['Trip  Duration'])\n",
    "\n",
    "Trip_Duration_Plot = Trip_Duration_Grouped['Trip  Duration'].agg([np.size])\n",
    "\n",
    "Trip_Duration_Plot.plot()\n",
    "\n",
    "plt.show()"
   ]
  },
  {
   "cell_type": "markdown",
   "id": "d8b7fc0c",
   "metadata": {},
   "source": [
    "Number of users who used less than 1 minutes (60 seconds)"
   ]
  },
  {
   "cell_type": "code",
   "execution_count": 58,
   "id": "d7b738f4",
   "metadata": {},
   "outputs": [
    {
     "name": "stdout",
     "output_type": "stream",
     "text": [
      "1752\n"
     ]
    }
   ],
   "source": [
    "Trip_Duration_Below_1_df = new_df_3.loc[new_df_3['Trip  Duration'] < 60] \n",
    "print(len(Trip_Duration_Below_1_df))  # 757"
   ]
  },
  {
   "cell_type": "markdown",
   "id": "80f86579",
   "metadata": {},
   "source": [
    "Number of users who used between one to ten minutes."
   ]
  },
  {
   "cell_type": "code",
   "execution_count": 59,
   "id": "e3e94534",
   "metadata": {},
   "outputs": [
    {
     "name": "stdout",
     "output_type": "stream",
     "text": [
      "1599855\n"
     ]
    },
    {
     "data": {
      "image/png": "[encoded data removed]",
      "text/plain": [
       "<Figure size 640x480 with 1 Axes>"
      ]
     },
     "metadata": {},
     "output_type": "display_data"
    }
   ],
   "source": [
    "Trip_Duration_Below_10_df = new_df_3.loc[(new_df_3['Trip  Duration'] >= 60) & (new_df_3['Trip  Duration'] <= 600)] # Between one minutes (60) to ten minutes (600)\n",
    "print(len(Trip_Duration_Below_10_df)) # 699030\n",
    "\n",
    "Trip_Duration_Grouped = Trip_Duration_Below_10_df.groupby(['Trip  Duration'])\n",
    "\n",
    "Trip_Duration_Plot = Trip_Duration_Grouped['Trip  Duration'].agg([np.size])\n",
    "\n",
    "Trip_Duration_Plot.plot()\n",
    "\n",
    "plt.show() # Peak"
   ]
  },
  {
   "cell_type": "markdown",
   "id": "cf05206a",
   "metadata": {},
   "source": [
    "Number of users whose used bikeshare between 10 to 30 minutes."
   ]
  },
  {
   "cell_type": "code",
   "execution_count": 60,
   "id": "5a7ab242",
   "metadata": {},
   "outputs": [
    {
     "name": "stdout",
     "output_type": "stream",
     "text": [
      "1976834\n"
     ]
    },
    {
     "data": {
      "image/png": "[encoded data removed]",
      "text/plain": [
       "<Figure size 640x480 with 1 Axes>"
      ]
     },
     "metadata": {},
     "output_type": "display_data"
    }
   ],
   "source": [
    "Trip_Duration_Below_30_df = new_df_3.loc[(new_df_3['Trip  Duration'] > 600) &\n",
    "                                   (new_df_3['Trip  Duration'] <= 1800)] \n",
    "print(len(Trip_Duration_Below_30_df)) # 833628\n",
    "\n",
    "Trip_Duration_Grouped = Trip_Duration_Below_30_df.groupby(['Trip  Duration'])\n",
    "\n",
    "Trip_Duration_Plot = Trip_Duration_Grouped['Trip  Duration'].agg([np.size])\n",
    "\n",
    "Trip_Duration_Plot.plot()\n",
    "\n",
    "plt.show() # Decreasing"
   ]
  },
  {
   "cell_type": "markdown",
   "id": "fb7a9ba0",
   "metadata": {},
   "source": [
    "Number of users whose use bikeshare between 30 minutes to 45 minutes."
   ]
  },
  {
   "cell_type": "code",
   "execution_count": 61,
   "id": "2e751fbe",
   "metadata": {},
   "outputs": [
    {
     "name": "stdout",
     "output_type": "stream",
     "text": [
      "236394\n"
     ]
    },
    {
     "data": {
      "image/png": "[encoded data removed]",
      "text/plain": [
       "<Figure size 640x480 with 1 Axes>"
      ]
     },
     "metadata": {},
     "output_type": "display_data"
    }
   ],
   "source": [
    "Trip_Duration_Below_45_df = new_df_3.loc[(new_df_3['Trip  Duration'] > 1800) &\n",
    "                                   (new_df_3['Trip  Duration'] <= 2700)] \n",
    "print(len(Trip_Duration_Below_45_df)) # 90631\n",
    "\n",
    "Trip_Duration_Grouped = Trip_Duration_Below_45_df.groupby(['Trip  Duration'])\n",
    "\n",
    "Trip_Duration_Plot = Trip_Duration_Grouped['Trip  Duration'].agg([np.size])\n",
    "\n",
    "Trip_Duration_Plot.plot()\n",
    "\n",
    "plt.show() # Constantly decreasing"
   ]
  },
  {
   "cell_type": "markdown",
   "id": "e50cce5f",
   "metadata": {},
   "source": [
    "Number of users who use bikeshare between 45 minutes to 90 minutes."
   ]
  },
  {
   "cell_type": "code",
   "execution_count": 62,
   "id": "db783abf",
   "metadata": {},
   "outputs": [
    {
     "name": "stdout",
     "output_type": "stream",
     "text": [
      "128923\n"
     ]
    },
    {
     "data": {
      "image/png": "[encoded data removed]",
      "text/plain": [
       "<Figure size 640x480 with 1 Axes>"
      ]
     },
     "metadata": {},
     "output_type": "display_data"
    }
   ],
   "source": [
    "# Noticed that bikeshare do not usually allow to member to use more than 45 minutes.\n",
    "\n",
    "Trip_Duration_Below_90_df = new_df_3.loc[(new_df_3['Trip  Duration'] > 2700) &\n",
    "                                   (new_df_3['Trip  Duration'] <= 5400)] \n",
    "print(len(Trip_Duration_Below_90_df)) # 47213\n",
    "\n",
    "Trip_Duration_Grouped = Trip_Duration_Below_90_df.groupby(['Trip  Duration'])\n",
    "\n",
    "Trip_Duration_Plot = Trip_Duration_Grouped['Trip  Duration'].agg([np.size])\n",
    "\n",
    "Trip_Duration_Plot.plot()\n",
    "\n",
    "plt.show()"
   ]
  },
  {
   "cell_type": "markdown",
   "id": "5fa7dd2c",
   "metadata": {},
   "source": [
    "Number of users whose use more than 90."
   ]
  },
  {
   "cell_type": "code",
   "execution_count": 63,
   "id": "ddd7a631",
   "metadata": {},
   "outputs": [
    {
     "name": "stdout",
     "output_type": "stream",
     "text": [
      "19097\n"
     ]
    },
    {
     "data": {
      "image/png": "[encoded data removed]",
      "text/plain": [
       "<Figure size 640x480 with 1 Axes>"
      ]
     },
     "metadata": {},
     "output_type": "display_data"
    }
   ],
   "source": [
    "# More than 90 minutes but less than 120 minutes. (With graph)\n",
    "\n",
    "Trip_Duration_Below_120_df = new_df_3.loc[(new_df_3['Trip  Duration'] > 5400) &\n",
    "                                   (new_df_3['Trip  Duration'] <= 7200)] \n",
    "print(len(Trip_Duration_Below_120_df)) # 6824\n",
    "\n",
    "Trip_Duration_Grouped = Trip_Duration_Below_120_df.groupby(['Trip  Duration'])\n",
    "\n",
    "Trip_Duration_Plot = Trip_Duration_Grouped['Trip  Duration'].agg([np.size])\n",
    "\n",
    "Trip_Duration_Plot.plot()\n",
    "\n",
    "plt.show()"
   ]
  },
  {
   "cell_type": "code",
   "execution_count": 64,
   "id": "c38c25dc",
   "metadata": {},
   "outputs": [
    {
     "name": "stdout",
     "output_type": "stream",
     "text": [
      "20966\n"
     ]
    }
   ],
   "source": [
    "# Numbers of user who use more than 120 minutes.\n",
    "\n",
    "Trip_Duration_Above_120_df = new_df_3.loc[new_df_3['Trip  Duration'] > 7200] \n",
    "print(len(Trip_Duration_Above_120_df)) # 7340"
   ]
  },
  {
   "cell_type": "markdown",
   "id": "9e94f1a5",
   "metadata": {},
   "source": [
    "Based on the overall result, the numbers of the peak users occurs between one minutes to 45 minutes period."
   ]
  },
  {
   "cell_type": "code",
   "execution_count": 65,
   "id": "2a1390e7",
   "metadata": {},
   "outputs": [
    {
     "data": {
      "image/png": "[encoded data removed]",
      "text/plain": [
       "<Figure size 640x480 with 1 Axes>"
      ]
     },
     "metadata": {},
     "output_type": "display_data"
    }
   ],
   "source": [
    "Trip_Duration_Overall_df = new_df_3.loc[(new_df_3['Trip  Duration'] > 60) &\n",
    "                                   (new_df_3['Trip  Duration'] <= 5400)] \n",
    "\n",
    "Trip_Duration_Grouped = Trip_Duration_Overall_df.groupby(['Trip  Duration'])\n",
    "\n",
    "Trip_Duration_Plot = Trip_Duration_Grouped['Trip  Duration'].agg([np.size])\n",
    "\n",
    "Trip_Duration_Plot.plot()\n",
    "\n",
    "plt.show() # Most usage occurred between 1 ~ 30 minutes."
   ]
  },
  {
   "cell_type": "markdown",
   "id": "96430aaf",
   "metadata": {},
   "source": [
    "The 'Start Hour' and 'End Hour' used to predict amount of user that use during specific time of the day."
   ]
  },
  {
   "cell_type": "markdown",
   "id": "ed2ba710",
   "metadata": {},
   "source": [
    "Graph for hour of period who pick up the bike. 8am and 5pm are the peak hours to picking up the bike."
   ]
  },
  {
   "cell_type": "code",
   "execution_count": 66,
   "id": "24229310",
   "metadata": {},
   "outputs": [
    {
     "data": {
      "image/png": "[encoded data removed]",
      "text/plain": [
       "<Figure size 640x480 with 1 Axes>"
      ]
     },
     "metadata": {},
     "output_type": "display_data"
    }
   ],
   "source": [
    "Start_Hour_Grouped = new_df_3.groupby(['Start Hour'])\n",
    "\n",
    "Start_Hour_Plot = Start_Hour_Grouped['Start Hour'].agg([np.size])\n",
    "# print(Start_Hour_Plot) # Hour start from 0 (12am) to 23 (11pm)\n",
    "\n",
    "Start_Hour_Plot.plot()\n",
    "\n",
    "plt.show()"
   ]
  },
  {
   "cell_type": "markdown",
   "id": "3d7a316b",
   "metadata": {},
   "source": [
    "Graph for hour of period who drop off the bike. 9am and 6 to 7pm are the peak hours to drop off the bike."
   ]
  },
  {
   "cell_type": "code",
   "execution_count": 67,
   "id": "b37563fc",
   "metadata": {},
   "outputs": [
    {
     "data": {
      "image/png": "[encoded data removed]",
      "text/plain": [
       "<Figure size 640x480 with 1 Axes>"
      ]
     },
     "metadata": {},
     "output_type": "display_data"
    }
   ],
   "source": [
    "End_Hour_Grouped = new_df_3.groupby(['End Hour'])\n",
    "\n",
    "End_Hour_Plot = End_Hour_Grouped['End Hour'].agg([np.size])\n",
    "# print(End_Hour_Plot) # Hour start from 0 (12am) to 23 (11pm)\n",
    "\n",
    "End_Hour_Plot.plot()\n",
    "\n",
    "plt.show()"
   ]
  },
  {
   "cell_type": "markdown",
   "id": "001e598f",
   "metadata": {},
   "source": [
    "For most user bike share station, Downtown Bike Stations the most use station for pick up. Outside of Downtown are the least bike stations that are being used. "
   ]
  },
  {
   "cell_type": "code",
   "execution_count": 68,
   "id": "a31766a4",
   "metadata": {},
   "outputs": [],
   "source": [
    "Start_Station_Grouped = new_df_3.groupby(['Start Station Name'])\n",
    "\n",
    "Start_Station_Plot = Start_Station_Grouped['Start Station Name'].size().sort_values(ascending=False)"
   ]
  },
  {
   "cell_type": "code",
   "execution_count": 69,
   "id": "1a4358c5",
   "metadata": {},
   "outputs": [
    {
     "name": "stdout",
     "output_type": "stream",
     "text": [
      "Top 25 Bike Start Station\n",
      "Start Station Name\n",
      "York St / Queens Quay W                    32538\n",
      "Bay St / College St (East Side)            28321\n",
      "Bay St / Queens Quay W (Ferry Terminal)    25609\n",
      "Union Station                              24162\n",
      "Queens Quay / Yonge St                     24009\n",
      "College St / Major St                      22927\n",
      "Bay St / Wellesley St W                    22850\n",
      "King St W / Portland St                    21429\n",
      "Queen St W / John St                       21415\n",
      "Baldwin St / Spadina Ave - SMART           19759\n",
      "College St / Markham St                    19753\n",
      "Widmer St / Adelaide St W - SMART          19460\n",
      "Fort York  Blvd / Capreol Ct               19365\n",
      "Dundas St W / Crawford St                  18447\n",
      "College St / Huron St                      18282\n",
      "Bathurst St / Front St W                   18276\n",
      "King St W / Charlotte St                   18131\n",
      "Richmond St E / Yonge St                   18126\n",
      "College Park - Yonge St Entrance           18102\n",
      "Dundas St W / Yonge St                     17729\n",
      "St. George St / Bloor St W                 17426\n",
      "Dundas St E / Regent Park Blvd             17317\n",
      "Strachan Ave / East Liberty St - SMART     17264\n",
      "Wellesley Station Green P                  17251\n",
      "Spadina Ave / Adelaide St W                16989\n",
      "Name: Start Station Name, dtype: int64\n"
     ]
    }
   ],
   "source": [
    "print(\"Top 25 Bike Start Station\")\n",
    "print(Start_Station_Plot.head(25)) # Mostly Downtown"
   ]
  },
  {
   "cell_type": "code",
   "execution_count": 70,
   "id": "390c5df7",
   "metadata": {},
   "outputs": [
    {
     "name": "stdout",
     "output_type": "stream",
     "text": [
      "\n",
      "Bottom 10 Bike Start Station\n",
      "Start Station Name\n",
      "75 Tandridge Cres                93\n",
      "Jane St / Yorkwoods Gt           82\n",
      "Trethewey Dr / Jane St           81\n",
      "Tangiers Rd / Finch Ave W        81\n",
      "Oakdale Community Centre         80\n",
      "Lindylou Rd / Lanyard Rd         75\n",
      "Trethewey Dr / Black Creek Dr    73\n",
      "Jane St / Lawrence Ave W         67\n",
      "Warehouse EBS-Station             4\n",
      "2 Church St                       1\n",
      "Name: Start Station Name, dtype: int64\n"
     ]
    }
   ],
   "source": [
    "print(\"\\nBottom 10 Bike Start Station\")\n",
    "print(Start_Station_Plot.tail(10)) # Mostly outside of Downtown"
   ]
  },
  {
   "cell_type": "markdown",
   "id": "cef6fee4",
   "metadata": {},
   "source": [
    "For most user bike share station, Downtown Bike Stations the most use station for drop off as well. Aside from maintaince yard, outside of Downtown Bike Stations are the least use station for drop off as well."
   ]
  },
  {
   "cell_type": "code",
   "execution_count": 71,
   "id": "13c3ccb7",
   "metadata": {},
   "outputs": [],
   "source": [
    "End_Station_Grouped = new_df_3.groupby(['End Station Name'])\n",
    "\n",
    "End_Station_Plot = End_Station_Grouped['End Station Name'].size().sort_values(ascending=False) # .agg([np.size])"
   ]
  },
  {
   "cell_type": "code",
   "execution_count": 72,
   "id": "4805759e",
   "metadata": {},
   "outputs": [
    {
     "name": "stdout",
     "output_type": "stream",
     "text": [
      "Top 25 Bike End Station\n",
      "End Station Name\n",
      "York St / Queens Quay W                          35425\n",
      "King St W / Bay St (West Side)                   31813\n",
      "Union Station                                    29008\n",
      "Bay St / College St (East Side)                  28219\n",
      "Bay St / Queens Quay W (Ferry Terminal)          26559\n",
      "Queens Quay / Yonge St                           25317\n",
      "College St / Major St                            23165\n",
      "King St W / Portland St                          21931\n",
      "Queen St W / John St                             21913\n",
      "Baldwin St / Spadina Ave - SMART                 20144\n",
      "Dundas St W / Crawford St                        20051\n",
      "Bathurst St/Queens Quay(Billy Bishop Airport)    20009\n",
      "College St / Markham St                          20002\n",
      "Widmer St / Adelaide St W - SMART                19750\n",
      "Dundas St W / Yonge St                           19003\n",
      "University Ave / Gerrard St W (East Side)        18957\n",
      "Fort York  Blvd / Capreol Ct                     18847\n",
      "Temperance St Station                            18756\n",
      "Bathurst St / Front St W                         18453\n",
      "Richmond St E / Yonge St                         18318\n",
      "College St / Huron St                            18309\n",
      "King St W / Charlotte St                         18172\n",
      "Frederick St / King St E                         18063\n",
      "HTO Park (Queens Quay W)                         17937\n",
      "Queens Quay W / Lower Simcoe St                  17933\n",
      "Name: End Station Name, dtype: int64\n"
     ]
    }
   ],
   "source": [
    "print(\"Top 25 Bike End Station\")\n",
    "print(End_Station_Plot.head(25)) # Mostly Downtown"
   ]
  },
  {
   "cell_type": "code",
   "execution_count": 73,
   "id": "1045e768",
   "metadata": {},
   "outputs": [
    {
     "name": "stdout",
     "output_type": "stream",
     "text": [
      "\n",
      "Bottom 10 Bike End Station\n",
      "End Station Name\n",
      "75 Tandridge Cres                83\n",
      "Trethewey Dr / Jane St           78\n",
      "Jane St / Yorkwoods Gt           74\n",
      "Lindylou Rd / Lanyard Rd         72\n",
      "Tangiers Rd / Finch Ave W        72\n",
      "Trethewey Dr / Black Creek Dr    68\n",
      "Jane St / Lawrence Ave W         45\n",
      "2 Church St                       8\n",
      "Warehouse EBS-Station             6\n",
      "Bike Shop Test Station            2\n",
      "Name: End Station Name, dtype: int64\n"
     ]
    }
   ],
   "source": [
    "print(\"\\nBottom 10 Bike End Station\")\n",
    "print(End_Station_Plot.tail(10)) # Except for Warehouse, outside of Downtown"
   ]
  },
  {
   "cell_type": "markdown",
   "id": "01224dbc",
   "metadata": {},
   "source": [
    "- K-Fold validation on the dataset given."
   ]
  },
  {
   "cell_type": "markdown",
   "id": "11efb604",
   "metadata": {},
   "source": [
    "<h1>10 fold cross-validation with Training/Validation Set</h1>"
   ]
  },
  {
   "cell_type": "markdown",
   "id": "36a3fa01",
   "metadata": {},
   "source": [
    "- First do ten (k-fold) Cross-validation on the training(/validaiton)set<br />\n",
    "- Second do the testing the models on the test set<br />\n",
    "- For spliting Training and testing models, 99.94% of dataset will be using as training 0.05% validation and remaining 0.01% of dataset will beusing as test set."
   ]
  },
  {
   "cell_type": "code",
   "execution_count": 74,
   "id": "1197f3d3",
   "metadata": {},
   "outputs": [],
   "source": [
    "# The data will do cross-validation and SVM will be done using Overall dataset generated in the previous steps.\n",
    "\n",
    "new_df_5 = Trip_Duration_Overall_df.copy()"
   ]
  },
  {
   "cell_type": "code",
   "execution_count": 75,
   "id": "4f9d85ad",
   "metadata": {},
   "outputs": [],
   "source": [
    "# X will be all the columns except for Trip Id, Trip Duration, name of Start/End Station, and date.\n",
    "features = ['Start Station Id','End Station Id','Start Hour','End Hour']\n",
    "\n",
    "X = new_df_5.loc[:, features]\n",
    "y = new_df_5.loc[:, ['Trip  Duration']]"
   ]
  },
  {
   "cell_type": "markdown",
   "id": "1a2dcfa9",
   "metadata": {},
   "source": [
    "All required modules"
   ]
  },
  {
   "cell_type": "code",
   "execution_count": 76,
   "id": "c251d6ef",
   "metadata": {},
   "outputs": [],
   "source": [
    "# from sklearn import tree\n",
    "# from sklearn.model_selection import train_test_split\n",
    "# # from sklearn.tree import DecisionTreeRegressor\n",
    "\n",
    "# from sklearn.linear_model import SGDClassifier\n",
    "\n",
    "# from sklearn.model_selection import KFold, cross_val_score"
   ]
  },
  {
   "cell_type": "markdown",
   "id": "d9713601",
   "metadata": {},
   "source": [
    "Spliting Train/Validation Set and Test Set"
   ]
  },
  {
   "cell_type": "code",
   "execution_count": 77,
   "id": "ef9a473b",
   "metadata": {},
   "outputs": [],
   "source": [
    "# Split Train(/Validaiton) and Test Set\n",
    "\n",
    "# Due to processing power, the data is divided into validation, training, and testing set instead.\n",
    "# Both validation and testing set will be divided into 0.05% and 0.01% respectively.\n",
    "# Original plan is to divide 70% of training and 30% of testing.\n",
    "\n",
    "# https://medium.com/@kavyasree42/best-practices-for-train-test-split-407089e2917a\n",
    "\n",
    "X_train_temp, X_test, y_train_temp, y_test = train_test_split(X, y, random_state=0, test_size = .0001)\n",
    "\n",
    "X_val, X_train, y_val, y_train = train_test_split(X_train_temp, y_train_temp, random_state=0, train_size = .0005)"
   ]
  },
  {
   "cell_type": "markdown",
   "id": "c16424eb",
   "metadata": {},
   "source": [
    "Do ten fold"
   ]
  },
  {
   "cell_type": "code",
   "execution_count": 78,
   "id": "707e08b3",
   "metadata": {},
   "outputs": [],
   "source": [
    "# Step necessary to do cross-validation\n",
    "\n",
    "k_folds = KFold(n_splits = 10)"
   ]
  },
  {
   "cell_type": "markdown",
   "id": "cb41ae7a",
   "metadata": {},
   "source": [
    "Using the 10 fold cross validation with \"Linear Regression\""
   ]
  },
  {
   "cell_type": "code",
   "execution_count": 79,
   "id": "d7e257b8",
   "metadata": {},
   "outputs": [
    {
     "name": "stdout",
     "output_type": "stream",
     "text": [
      "Cross Validation Scores:  [ 0.01352125 -0.01054197  0.00871714  0.01556474 -0.01990916 -0.0149667\n",
      "  0.02569971  0.00213847 -0.03237142  0.02920717]\n",
      "Average CV Score:  0.0017059230893478605\n",
      "Number of CV Scores used in Average:  10\n"
     ]
    }
   ],
   "source": [
    "# from sklearn import linear_model\n",
    "\n",
    "# https://www.geeksforgeeks.org/linear-regression-python-implementation/\n",
    "\n",
    "# Create linear regression model\n",
    "linear_reg = linear_model.LinearRegression()\n",
    "\n",
    "# Fit the model for Linear Regression\n",
    "linear_reg.fit(X_val, y_val)\n",
    "\n",
    "# Apply k Fold cross validation\n",
    "linear_scores = cross_val_score(linear_reg, X_val, y_val, cv = k_folds)\n",
    "\n",
    "print(\"Cross Validation Scores: \", linear_scores)\n",
    "print(\"Average CV Score: \", linear_scores.mean())\n",
    "print(\"Number of CV Scores used in Average: \", len(linear_scores)) \n",
    "\n",
    "# Performing predictions on the test dataset\n",
    "y_pred_linear = linear_reg.predict(X_test)"
   ]
  },
  {
   "cell_type": "markdown",
   "id": "2e610797",
   "metadata": {},
   "source": [
    "Using the 10 fold cross validation with \"Decision Tree Regressor\""
   ]
  },
  {
   "cell_type": "code",
   "execution_count": 80,
   "id": "3fd23ca0",
   "metadata": {},
   "outputs": [
    {
     "name": "stdout",
     "output_type": "stream",
     "text": [
      "Cross Validation Scores:  [-0.00712068 -0.03748102  0.00090033 -0.00353938 -0.01424214 -0.01553227\n",
      "  0.008711    0.00220175 -0.00292857  0.01654161]\n",
      "Average CV Score:  -0.005248936273591909\n",
      "Number of CV Scores used in Average:  10\n"
     ]
    }
   ],
   "source": [
    "# from sklearn.tree import DecisionTreeRegressor\n",
    "\n",
    "# Create Decision Tree Regressor\n",
    "decision_reg = DecisionTreeRegressor(max_depth = 2, random_state = 42)\n",
    "\n",
    "# Fit the model for Decision Tree Regression\n",
    "decision_reg.fit(X_val, y_val)\n",
    "\n",
    "# Apply k Fold cross validation\n",
    "decision_reg_score = cross_val_score(decision_reg, X_val, y_val, cv = k_folds)\n",
    "\n",
    "print(\"Cross Validation Scores: \", decision_reg_score)\n",
    "print(\"Average CV Score: \", decision_reg_score.mean())\n",
    "print(\"Number of CV Scores used in Average: \", len(decision_reg_score)) \n",
    "\n",
    "# Performing predictions on the test dataset\n",
    "y_pred_decision_reg = decision_reg.predict(X_test)"
   ]
  },
  {
   "cell_type": "markdown",
   "id": "1d32b27d",
   "metadata": {},
   "source": [
    "Using the 10 fold cross validation with \"Random Forest Regressor\""
   ]
  },
  {
   "cell_type": "code",
   "execution_count": 81,
   "id": "0715ca95",
   "metadata": {},
   "outputs": [
    {
     "name": "stdout",
     "output_type": "stream",
     "text": [
      "Cross Validation Scores:  [ 0.03378462 -0.08516041  0.01607346 -0.03367721 -0.03634248  0.01507573\n",
      " -0.12225271  0.03015073  0.01926906 -0.00071402]\n",
      "Average CV Score:  -0.016379321668781543\n",
      "Number of CV Scores used in Average:  10\n"
     ]
    }
   ],
   "source": [
    "# https://www.geeksforgeeks.org/random-forest-regression-in-python/\n",
    "\n",
    "# from sklearn.ensemble import RandomForestRegressor\n",
    "\n",
    "# Fitting Random Forest Regression to the dataset\n",
    "rf_regressor = RandomForestRegressor(n_estimators=10, random_state=0, oob_score=True)\n",
    "\n",
    "# Fit the regressor with x and y data\n",
    "rf_regressor.fit(X_val, y_val)\n",
    "\n",
    "# Apply k Fold cross validation\n",
    "rf_reg_scores = cross_val_score(rf_regressor, X_val, y_val, cv = k_folds)\n",
    "\n",
    "print(\"Cross Validation Scores: \", rf_reg_scores)\n",
    "print(\"Average CV Score: \", rf_reg_scores.mean())\n",
    "print(\"Number of CV Scores used in Average: \", len(rf_reg_scores)) \n",
    "\n",
    "# Performing predictions on the test dataset\n",
    "y_pred_rf_reg = rf_regressor.predict(X_test)"
   ]
  },
  {
   "cell_type": "markdown",
   "id": "1e34d66f",
   "metadata": {},
   "source": [
    "<h1>Support Vector Machine Stage using Regression</h1>"
   ]
  },
  {
   "cell_type": "markdown",
   "id": "0bd44e40",
   "metadata": {},
   "source": [
    "Support Vector Machine for Regression (Using linear kernel)"
   ]
  },
  {
   "cell_type": "code",
   "execution_count": 82,
   "id": "5f1cce6e",
   "metadata": {},
   "outputs": [],
   "source": [
    "# https://www.analyticsvidhya.com/blog/2020/03/support-vector-regression-tutorial-for-machine-learning/\n",
    "# https://www.geeksforgeeks.org/support-vector-regression-svr-using-linear-and-non-linear-kernels-in-scikit-learn/\n",
    "\n",
    "# Import svr \"Support Vector Regression\" model\n",
    "# from sklearn.svm import SVR\n",
    "\n",
    "# Create an SVR Model with a Linear Kernel\n",
    "svr_regressor = SVR(kernel = 'linear')\n",
    "\n",
    "# Train the model using the Training/Validation dataset \n",
    "svr_regressor.fit(X_val, y_val)\n",
    "\n",
    "# make predictions for Test dataset\n",
    "y_pred_svr_regressor = svr_regressor.predict(X_test) "
   ]
  },
  {
   "cell_type": "markdown",
   "id": "4ffc7488",
   "metadata": {},
   "source": [
    "<h1>Evaluate model</h1>"
   ]
  },
  {
   "cell_type": "code",
   "execution_count": 83,
   "id": "a0da8e66",
   "metadata": {},
   "outputs": [
    {
     "name": "stdout",
     "output_type": "stream",
     "text": [
      "Mean Squared Error: 555378.6143933034\n"
     ]
    }
   ],
   "source": [
    "# https://www.geeksforgeeks.org/step-by-step-guide-to-calculating-rmse-using-scikit-learn/\n",
    "\n",
    "# from sklearn.metrics import mean_squared_error\n",
    "\n",
    "mse = mean_squared_error(y_test, y_pred_svr_regressor)\n",
    "print(f\"Mean Squared Error: {mse}\")"
   ]
  },
  {
   "cell_type": "code",
   "execution_count": 84,
   "id": "1e4ef956",
   "metadata": {},
   "outputs": [
    {
     "name": "stdout",
     "output_type": "stream",
     "text": [
      "Mean absolute error: 485.31936400460916\n"
     ]
    }
   ],
   "source": [
    "# https://www.askpython.com/python/examples/mape-mean-absolute-percentage-error\n",
    "\n",
    "# from sklearn.metrics import mean_absolute_error\n",
    "\n",
    "mae = mean_absolute_error(y_test, y_pred_svr_regressor)\n",
    "print(f\"Mean absolute error: {mae}\")"
   ]
  },
  {
   "cell_type": "code",
   "execution_count": 85,
   "id": "398b3901",
   "metadata": {},
   "outputs": [
    {
     "name": "stdout",
     "output_type": "stream",
     "text": [
      "Root Mean Squared Error: 745.2372873074074\n"
     ]
    }
   ],
   "source": [
    "# https://discovery.cs.illinois.edu/guides/Statistics-with-Python/rmse/\n",
    "\n",
    "rmse = np.sqrt(mean_squared_error(y_test, y_pred_svr_regressor)) # np.sqrt(mse)\n",
    "print(f\"Root Mean Squared Error: {rmse}\")"
   ]
  },
  {
   "cell_type": "code",
   "execution_count": 86,
   "id": "4519bfa8",
   "metadata": {},
   "outputs": [
    {
     "name": "stdout",
     "output_type": "stream",
     "text": [
      "The R-squared the (linear svr) model turns out to be -0.052021434320045135\n",
      "The R-squared the (linear regression) model turns out to be 0.021926732368696245\n"
     ]
    }
   ],
   "source": [
    "# https://www.statology.org/r-squared-in-python/\n",
    "\n",
    "# from sklearn.linear_model import LinearRegression\n",
    "\n",
    "# #initiate linear regression model\n",
    "# model = LinearRegression()\n",
    "\n",
    "# #define predictor and response variables\n",
    "# X, y = df[[\"hours\", \"prep_exams\"]], df.score\n",
    "\n",
    "# #fit regression model\n",
    "# model.fit(X, y)\n",
    "\n",
    "#calculate R-squared of regression model\n",
    "r_squared = svr_regressor.score(X_test, y_test) \n",
    "r_squared2 = linear_reg.score(X_test, y_test) # model\n",
    "\n",
    "#view R-squared value\n",
    "print(f\"The R-squared the (linear svr) model turns out to be {r_squared}\")\n",
    "print(f\"The R-squared the (linear regression) model turns out to be {r_squared2}\")"
   ]
  },
  {
   "cell_type": "code",
   "execution_count": 87,
   "id": "fc415675",
   "metadata": {},
   "outputs": [
    {
     "name": "stdout",
     "output_type": "stream",
     "text": [
      "Average MSE: 555378.6143933034, Std: 0.0\n",
      "Average MAE: 485.31936400460916, Std: 0.0\n",
      "Average RMSE: 745.2372873074074, Std: 0.0\n",
      "Average R-squared: -0.052021434320045135, Std: 0.0\n"
     ]
    }
   ],
   "source": [
    "# https://www.kaggle.com/code/ilhansevval/regression-analysis-knn-svm-decision-tree\n",
    "\n",
    "average_mse = np.mean(mse)\n",
    "std_mse = np.std(mse)\n",
    "average_mae = np.mean(mae)\n",
    "std_mae = np.std(mae)\n",
    "average_rmse = np.mean(rmse)\n",
    "std_rmse = np.std(rmse)\n",
    "average_r_squared = np.mean(r_squared)\n",
    "std_r_squared = np.std(r_squared)\n",
    "\n",
    "\n",
    "print(f\"Average MSE: {average_mse}, Std: {std_mse}\")\n",
    "print(f\"Average MAE: {average_mae}, Std: {std_mae}\")\n",
    "print(f\"Average RMSE: {average_rmse}, Std: {std_rmse}\")\n",
    "print(f\"Average R-squared: {average_r_squared}, Std: {std_r_squared}\")"
   ]
  }
 ],
 "metadata": {
  "kernelspec": {
   "display_name": "cind840",
   "language": "python",
   "name": "python3"
  },
  "language_info": {
   "codemirror_mode": {
    "name": "ipython",
    "version": 3
   },
   "file_extension": ".py",
   "mimetype": "text/x-python",
   "name": "python",
   "nbconvert_exporter": "python",
   "pygments_lexer": "ipython3",
   "version": "3.8.18"
  }
 },
 "nbformat": 4,
 "nbformat_minor": 5
}
